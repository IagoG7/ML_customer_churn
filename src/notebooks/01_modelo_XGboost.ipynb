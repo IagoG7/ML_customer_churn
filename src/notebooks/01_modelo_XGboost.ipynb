{
 "cells": [
  {
   "cell_type": "markdown",
   "metadata": {},
   "source": [
    "# 🔍 Customer Churn Prediction - Proyecto ML\n",
    "\n",
    "**Paso 1: Entendiendo el problema**\n",
    "\n",
    "El abandono de clientes (customer churn) es un gran problema para las empresas que ofrecen servicios por suscripción. Este proyecto busca predecir si un cliente se va a dar de baja o no, utilizando datos históricos de sus características y comportamiento.\n",
    "\n",
    "---\n",
    "\n",
    "- **Tipo de problema**: Clasificación binaria\n",
    "- **Dataset**: Público, obtenido de Kaggle  \n",
    "  URL: https://www.kaggle.com/datasets/muhammadshahidazeem/customer-churn-dataset\n",
    "- **Objetivo**: Construir un modelo que prediga la variable `churn` (abandono del cliente)\n",
    "\n"
   ]
  },
  {
   "cell_type": "code",
   "execution_count": 5,
   "metadata": {},
   "outputs": [],
   "source": [
    "# Librerías\n",
    "\n",
    "import pandas as pd\n",
    "import matplotlib.pyplot as plt\n",
    "import seaborn as sns\n",
    "\n",
    "from sklearn.model_selection import train_test_split\n",
    "from sklearn.preprocessing import StandardScaler\n",
    "\n",
    "from xgboost import XGBClassifier\n",
    "from sklearn.metrics import accuracy_score, confusion_matrix, classification_report\n",
    "\n",
    "import joblib\n",
    "import os\n"
   ]
  },
  {
   "cell_type": "markdown",
   "metadata": {},
   "source": [
    "**Paso 2: Carga de datos**"
   ]
  },
  {
   "cell_type": "code",
   "execution_count": 6,
   "metadata": {},
   "outputs": [
    {
     "name": "stdout",
     "output_type": "stream",
     "text": [
      "(440833, 12)\n",
      "(64374, 12)\n"
     ]
    },
    {
     "data": {
      "text/html": [
       "<div>\n",
       "<style scoped>\n",
       "    .dataframe tbody tr th:only-of-type {\n",
       "        vertical-align: middle;\n",
       "    }\n",
       "\n",
       "    .dataframe tbody tr th {\n",
       "        vertical-align: top;\n",
       "    }\n",
       "\n",
       "    .dataframe thead th {\n",
       "        text-align: right;\n",
       "    }\n",
       "</style>\n",
       "<table border=\"1\" class=\"dataframe\">\n",
       "  <thead>\n",
       "    <tr style=\"text-align: right;\">\n",
       "      <th></th>\n",
       "      <th>CustomerID</th>\n",
       "      <th>Age</th>\n",
       "      <th>Gender</th>\n",
       "      <th>Tenure</th>\n",
       "      <th>Usage Frequency</th>\n",
       "      <th>Support Calls</th>\n",
       "      <th>Payment Delay</th>\n",
       "      <th>Subscription Type</th>\n",
       "      <th>Contract Length</th>\n",
       "      <th>Total Spend</th>\n",
       "      <th>Last Interaction</th>\n",
       "      <th>Churn</th>\n",
       "    </tr>\n",
       "  </thead>\n",
       "  <tbody>\n",
       "    <tr>\n",
       "      <th>0</th>\n",
       "      <td>2.0</td>\n",
       "      <td>30.0</td>\n",
       "      <td>Female</td>\n",
       "      <td>39.0</td>\n",
       "      <td>14.0</td>\n",
       "      <td>5.0</td>\n",
       "      <td>18.0</td>\n",
       "      <td>Standard</td>\n",
       "      <td>Annual</td>\n",
       "      <td>932.0</td>\n",
       "      <td>17.0</td>\n",
       "      <td>1.0</td>\n",
       "    </tr>\n",
       "    <tr>\n",
       "      <th>1</th>\n",
       "      <td>3.0</td>\n",
       "      <td>65.0</td>\n",
       "      <td>Female</td>\n",
       "      <td>49.0</td>\n",
       "      <td>1.0</td>\n",
       "      <td>10.0</td>\n",
       "      <td>8.0</td>\n",
       "      <td>Basic</td>\n",
       "      <td>Monthly</td>\n",
       "      <td>557.0</td>\n",
       "      <td>6.0</td>\n",
       "      <td>1.0</td>\n",
       "    </tr>\n",
       "    <tr>\n",
       "      <th>2</th>\n",
       "      <td>4.0</td>\n",
       "      <td>55.0</td>\n",
       "      <td>Female</td>\n",
       "      <td>14.0</td>\n",
       "      <td>4.0</td>\n",
       "      <td>6.0</td>\n",
       "      <td>18.0</td>\n",
       "      <td>Basic</td>\n",
       "      <td>Quarterly</td>\n",
       "      <td>185.0</td>\n",
       "      <td>3.0</td>\n",
       "      <td>1.0</td>\n",
       "    </tr>\n",
       "    <tr>\n",
       "      <th>3</th>\n",
       "      <td>5.0</td>\n",
       "      <td>58.0</td>\n",
       "      <td>Male</td>\n",
       "      <td>38.0</td>\n",
       "      <td>21.0</td>\n",
       "      <td>7.0</td>\n",
       "      <td>7.0</td>\n",
       "      <td>Standard</td>\n",
       "      <td>Monthly</td>\n",
       "      <td>396.0</td>\n",
       "      <td>29.0</td>\n",
       "      <td>1.0</td>\n",
       "    </tr>\n",
       "    <tr>\n",
       "      <th>4</th>\n",
       "      <td>6.0</td>\n",
       "      <td>23.0</td>\n",
       "      <td>Male</td>\n",
       "      <td>32.0</td>\n",
       "      <td>20.0</td>\n",
       "      <td>5.0</td>\n",
       "      <td>8.0</td>\n",
       "      <td>Basic</td>\n",
       "      <td>Monthly</td>\n",
       "      <td>617.0</td>\n",
       "      <td>20.0</td>\n",
       "      <td>1.0</td>\n",
       "    </tr>\n",
       "  </tbody>\n",
       "</table>\n",
       "</div>"
      ],
      "text/plain": [
       "   CustomerID   Age  Gender  Tenure  Usage Frequency  Support Calls  \\\n",
       "0         2.0  30.0  Female    39.0             14.0            5.0   \n",
       "1         3.0  65.0  Female    49.0              1.0           10.0   \n",
       "2         4.0  55.0  Female    14.0              4.0            6.0   \n",
       "3         5.0  58.0    Male    38.0             21.0            7.0   \n",
       "4         6.0  23.0    Male    32.0             20.0            5.0   \n",
       "\n",
       "   Payment Delay Subscription Type Contract Length  Total Spend  \\\n",
       "0           18.0          Standard          Annual        932.0   \n",
       "1            8.0             Basic         Monthly        557.0   \n",
       "2           18.0             Basic       Quarterly        185.0   \n",
       "3            7.0          Standard         Monthly        396.0   \n",
       "4            8.0             Basic         Monthly        617.0   \n",
       "\n",
       "   Last Interaction  Churn  \n",
       "0              17.0    1.0  \n",
       "1               6.0    1.0  \n",
       "2               3.0    1.0  \n",
       "3              29.0    1.0  \n",
       "4              20.0    1.0  "
      ]
     },
     "execution_count": 6,
     "metadata": {},
     "output_type": "execute_result"
    }
   ],
   "source": [
    "# Ruta a los archivos\n",
    "train_path = \"../data_sample/customer_churn_dataset-training-master.csv\"\n",
    "test_path = \"../data_sample/customer_churn_dataset-testing-master.csv\"\n",
    "\n",
    "# Cargar datasets\n",
    "df_train = pd.read_csv(train_path)\n",
    "df_test = pd.read_csv(test_path)\n",
    "\n",
    "# Mostrar forma y primeras filas\n",
    "print(df_train.shape)\n",
    "print(df_test.shape)\n",
    "df_train.head()\n"
   ]
  },
  {
   "cell_type": "markdown",
   "metadata": {},
   "source": [
    "**Paso 3: Análisis Exploratorio de Datos (EDA)**"
   ]
  },
  {
   "cell_type": "code",
   "execution_count": 7,
   "metadata": {},
   "outputs": [
    {
     "name": "stdout",
     "output_type": "stream",
     "text": [
      "Columnas disponibles:\n",
      "Index(['CustomerID', 'Age', 'Gender', 'Tenure', 'Usage Frequency',\n",
      "       'Support Calls', 'Payment Delay', 'Subscription Type',\n",
      "       'Contract Length', 'Total Spend', 'Last Interaction', 'Churn'],\n",
      "      dtype='object')\n"
     ]
    }
   ],
   "source": [
    "print(\"Columnas disponibles:\")\n",
    "print(df_train.columns)"
   ]
  },
  {
   "cell_type": "code",
   "execution_count": 8,
   "metadata": {},
   "outputs": [
    {
     "name": "stdout",
     "output_type": "stream",
     "text": [
      "Shape del dataset de entrenamiento: (440833, 12)\n",
      "\n",
      "Tipos de datos:\n",
      "CustomerID           float64\n",
      "Age                  float64\n",
      "Gender                object\n",
      "Tenure               float64\n",
      "Usage Frequency      float64\n",
      "Support Calls        float64\n",
      "Payment Delay        float64\n",
      "Subscription Type     object\n",
      "Contract Length       object\n",
      "Total Spend          float64\n",
      "Last Interaction     float64\n",
      "Churn                float64\n",
      "dtype: object\n",
      "\n",
      "Valores nulos por columna:\n",
      "CustomerID           1\n",
      "Age                  1\n",
      "Gender               1\n",
      "Tenure               1\n",
      "Usage Frequency      1\n",
      "Support Calls        1\n",
      "Payment Delay        1\n",
      "Subscription Type    1\n",
      "Contract Length      1\n",
      "Total Spend          1\n",
      "Last Interaction     1\n",
      "Churn                1\n",
      "dtype: int64\n",
      "\n",
      "Distribución de la variable 'churn':\n",
      "Churn\n",
      "1.0    249999\n",
      "0.0    190833\n",
      "Name: count, dtype: int64\n"
     ]
    }
   ],
   "source": [
    "\n",
    "# Ver dimensiones\n",
    "print(\"Shape del dataset de entrenamiento:\", df_train.shape)\n",
    "\n",
    "# Ver tipos de datos\n",
    "print(\"\\nTipos de datos:\")\n",
    "print(df_train.dtypes)\n",
    "\n",
    "# Ver valores nulos\n",
    "print(\"\\nValores nulos por columna:\")\n",
    "print(df_train.isnull().sum())\n",
    "\n",
    "# Ver distribución de la variable objetivo\n",
    "print(\"\\nDistribución de la variable 'churn':\")\n",
    "print(df_train['Churn'].value_counts())"
   ]
  },
  {
   "cell_type": "code",
   "execution_count": 9,
   "metadata": {},
   "outputs": [
    {
     "data": {
      "image/png": "[encoded data removed]",
      "text/plain": [
       "<Figure size 640x480 with 1 Axes>"
      ]
     },
     "metadata": {},
     "output_type": "display_data"
    }
   ],
   "source": [
    "# Gráfico de barras para la variable objetivo\n",
    "sns.countplot(x='Churn', data=df_train)\n",
    "plt.title('Distribución de la variable objetivo (churn)')\n",
    "plt.xlabel('Churn')\n",
    "plt.ylabel('Cantidad')\n",
    "plt.show()\n"
   ]
  },
  {
   "cell_type": "code",
   "execution_count": 10,
   "metadata": {},
   "outputs": [
    {
     "data": {
      "image/png": "[encoded data removed]",
      "text/plain": [
       "<Figure size 600x400 with 1 Axes>"
      ]
     },
     "metadata": {},
     "output_type": "display_data"
    },
    {
     "data": {
      "image/png": "[encoded data removed]",
      "text/plain": [
       "<Figure size 600x400 with 1 Axes>"
      ]
     },
     "metadata": {},
     "output_type": "display_data"
    },
    {
     "data": {
      "image/png": "[encoded data removed]",
      "text/plain": [
       "<Figure size 600x400 with 1 Axes>"
      ]
     },
     "metadata": {},
     "output_type": "display_data"
    }
   ],
   "source": [
    "# Análisis de variables categóricas vs. Churn\n",
    "\n",
    "# Función para graficar Churn vs variables categóricas\n",
    "def plot_churn_vs_column(col):\n",
    "    plt.figure(figsize=(6,4))\n",
    "    sns.countplot(x=col, hue='Churn', data=df_train)\n",
    "    plt.title(f'Churn según {col}')\n",
    "    plt.legend(title='Churn')\n",
    "    plt.xlabel(col)\n",
    "    plt.ylabel('Cantidad')\n",
    "    plt.xticks(rotation=45)\n",
    "    plt.tight_layout()\n",
    "    plt.show()\n",
    "\n",
    "plot_churn_vs_column('Gender')\n",
    "plot_churn_vs_column('Subscription Type')\n",
    "plot_churn_vs_column('Contract Length')\n"
   ]
  },
  {
   "cell_type": "code",
   "execution_count": 11,
   "metadata": {},
   "outputs": [
    {
     "data": {
      "image/png": "[encoded data removed]",
      "text/plain": [
       "<Figure size 600x400 with 1 Axes>"
      ]
     },
     "metadata": {},
     "output_type": "display_data"
    },
    {
     "data": {
      "image/png": "[encoded data removed]",
      "text/plain": [
       "<Figure size 600x400 with 1 Axes>"
      ]
     },
     "metadata": {},
     "output_type": "display_data"
    },
    {
     "data": {
      "image/png": "[encoded data removed]",
      "text/plain": [
       "<Figure size 600x400 with 1 Axes>"
      ]
     },
     "metadata": {},
     "output_type": "display_data"
    },
    {
     "data": {
      "image/png": "[encoded data removed]",
      "text/plain": [
       "<Figure size 600x400 with 1 Axes>"
      ]
     },
     "metadata": {},
     "output_type": "display_data"
    }
   ],
   "source": [
    "# Análisis de variables numéricas vs. Churn\n",
    "\n",
    "\n",
    "def plot_numeric_vs_churn(col):\n",
    "    plt.figure(figsize=(6,4))\n",
    "    sns.boxplot(x='Churn', y=col, data=df_train)\n",
    "    plt.title(f'{col} según Churn')\n",
    "    plt.xlabel('Churn')\n",
    "    plt.ylabel(col)\n",
    "    plt.tight_layout()\n",
    "    plt.show()\n",
    "\n",
    "\n",
    "numericas = ['Total Spend', 'Tenure', 'Usage Frequency', 'Support Calls']\n",
    "for var in numericas:\n",
    "    plot_numeric_vs_churn(var)\n"
   ]
  },
  {
   "cell_type": "markdown",
   "metadata": {},
   "source": [
    "### ✅ Conclusiones del Análisis Exploratorio (EDA)\n",
    "\n",
    "- La variable objetivo `Churn` está **moderadamente desbalanceada**, con más clientes que abandonan que los que se quedan.\n",
    "- Variables categóricas como **`Subscription Type` y `Contract Length`** muestran patrones claros con el churn.\n",
    "- **Los contratos mensuales** y las **suscripciones básicas** tienen mayor tasa de abandono.\n",
    "- En cuanto a variables numéricas:\n",
    "  - Los clientes que **gastan menos (`Total Spend`)** o **llaman más al soporte (`Support Calls`)** tienden a abandonar más.\n",
    "  - La variable **`Tenure`** también muestra una ligera relación: clientes antiguos se quedan más.\n",
    "  - `Usage Frequency` no muestra diferencias claras.\n",
    "- Estas observaciones nos ayudarán a seleccionar y preparar variables para entrenar el modelo de clasificación.\n"
   ]
  },
  {
   "cell_type": "markdown",
   "metadata": {},
   "source": [
    "**Paso 4: Limpieza de datos**"
   ]
  },
  {
   "cell_type": "code",
   "execution_count": 12,
   "metadata": {},
   "outputs": [
    {
     "name": "stdout",
     "output_type": "stream",
     "text": [
      "Valores nulos antes de limpiar:\n",
      "CustomerID           1\n",
      "Age                  1\n",
      "Gender               1\n",
      "Tenure               1\n",
      "Usage Frequency      1\n",
      "Support Calls        1\n",
      "Payment Delay        1\n",
      "Subscription Type    1\n",
      "Contract Length      1\n",
      "Total Spend          1\n",
      "Last Interaction     1\n",
      "Churn                1\n",
      "dtype: int64\n",
      "\n",
      "Valores nulos después de limpiar: 0\n",
      "Tipos de datos finales:\n",
      " CustomerID           float64\n",
      "Age                  float64\n",
      "Gender                object\n",
      "Tenure               float64\n",
      "Usage Frequency      float64\n",
      "Support Calls        float64\n",
      "Payment Delay        float64\n",
      "Subscription Type     object\n",
      "Contract Length       object\n",
      "Total Spend          float64\n",
      "Last Interaction     float64\n",
      "Churn                  int32\n",
      "dtype: object\n"
     ]
    }
   ],
   "source": [
    "# Verificar valores nulos antes de limpiar\n",
    "print(\"Valores nulos antes de limpiar:\")\n",
    "print(df_train.isnull().sum())\n",
    "\n",
    "# Eliminar filas con valores nulos\n",
    "df_train = df_train.dropna()\n",
    "df_test = df_test.dropna()\n",
    "\n",
    "# Asegurar que la variable objetivo sea tipo entero\n",
    "df_train['Churn'] = df_train['Churn'].astype(int)\n",
    "df_test['Churn'] = df_test['Churn'].astype(int)\n",
    "\n",
    "# Verificación después de la limpieza\n",
    "print(\"\\nValores nulos después de limpiar:\", df_train.isnull().sum().sum())\n",
    "print(\"Tipos de datos finales:\\n\", df_train.dtypes)\n"
   ]
  },
  {
   "cell_type": "markdown",
   "metadata": {},
   "source": [
    "**Paso 5: Preparación de los datos para el modelado**"
   ]
  },
  {
   "cell_type": "code",
   "execution_count": 13,
   "metadata": {},
   "outputs": [],
   "source": [
    "# Eliminamos columnas que no nos sirven para predecir, como CustomerID\n",
    "X = df_train.drop(['CustomerID', 'Churn'], axis=1)\n",
    "y = df_train['Churn']"
   ]
  },
  {
   "cell_type": "code",
   "execution_count": 14,
   "metadata": {},
   "outputs": [],
   "source": [
    "# One-Hot Encoding para convertir en numéricas\n",
    "X = pd.get_dummies(X, columns=['Gender', 'Subscription Type', 'Contract Length'], drop_first=True)"
   ]
  },
  {
   "cell_type": "code",
   "execution_count": 15,
   "metadata": {},
   "outputs": [],
   "source": [
    "# Train/Test\n",
    "X_train, X_test, y_train, y_test = train_test_split(X, y, test_size=0.2, random_state=42, stratify=y)"
   ]
  },
  {
   "cell_type": "code",
   "execution_count": 21,
   "metadata": {},
   "outputs": [],
   "source": [
    "# Escalamos\n",
    "scaler = StandardScaler()\n",
    "\n",
    "X_train_scaled = scaler.fit_transform(X_train)\n",
    "\n",
    "X_test_scaled = scaler.transform(X_test)"
   ]
  },
  {
   "cell_type": "markdown",
   "metadata": {},
   "source": [
    "**Paso 6: Entrenamiento del modelo con XGBoost**"
   ]
  },
  {
   "cell_type": "markdown",
   "metadata": {},
   "source": [
    "## Modelo XGBoost\n",
    "Se elige XGBoost como modelo principal de Machine Learning porque es uno de los algoritmos más potentes y utilizados en problemas de clasificación con datos tabulares. Es capaz de manejar tanto variables numéricas como categóricas (una vez codificadas), es robusto frente a datos desbalanceados, y suele obtener mejores resultados que otros modelos tradicionales. Además, permite interpretar la importancia de las variables, lo cual es útil para entender qué factores influyen más en el abandono de clientes."
   ]
  },
  {
   "cell_type": "code",
   "execution_count": 17,
   "metadata": {},
   "outputs": [],
   "source": [
    "# Modelo con parámetros básicos\n",
    "xgb_model = XGBClassifier(\n",
    "    use_label_encoder=False,\n",
    "    eval_metric='logloss',\n",
    "    random_state=42\n",
    ")"
   ]
  },
  {
   "cell_type": "code",
   "execution_count": 18,
   "metadata": {},
   "outputs": [
    {
     "name": "stderr",
     "output_type": "stream",
     "text": [
      "c:\\Users\\iagog\\AppData\\Local\\Programs\\Python\\Python311\\Lib\\site-packages\\xgboost\\training.py:183: UserWarning: [15:40:48] WARNING: C:\\actions-runner\\_work\\xgboost\\xgboost\\src\\learner.cc:738: \n",
      "Parameters: { \"use_label_encoder\" } are not used.\n",
      "\n",
      "  bst.update(dtrain, iteration=i, fobj=obj)\n"
     ]
    },
    {
     "data": {
      "text/html": [
       "<style>#sk-container-id-1 {\n",
       "  /* Definition of color scheme common for light and dark mode */\n",
       "  --sklearn-color-text: #000;\n",
       "  --sklearn-color-text-muted: #666;\n",
       "  --sklearn-color-line: gray;\n",
       "  /* Definition of color scheme for unfitted estimators */\n",
       "  --sklearn-color-unfitted-level-0: #fff5e6;\n",
       "  --sklearn-color-unfitted-level-1: #f6e4d2;\n",
       "  --sklearn-color-unfitted-level-2: #ffe0b3;\n",
       "  --sklearn-color-unfitted-level-3: chocolate;\n",
       "  /* Definition of color scheme for fitted estimators */\n",
       "  --sklearn-color-fitted-level-0: #f0f8ff;\n",
       "  --sklearn-color-fitted-level-1: #d4ebff;\n",
       "  --sklearn-color-fitted-level-2: #b3dbfd;\n",
       "  --sklearn-color-fitted-level-3: cornflowerblue;\n",
       "\n",
       "  /* Specific color for light theme */\n",
       "  --sklearn-color-text-on-default-background: var(--sg-text-color, var(--theme-code-foreground, var(--jp-content-font-color1, black)));\n",
       "  --sklearn-color-background: var(--sg-background-color, var(--theme-background, var(--jp-layout-color0, white)));\n",
       "  --sklearn-color-border-box: var(--sg-text-color, var(--theme-code-foreground, var(--jp-content-font-color1, black)));\n",
       "  --sklearn-color-icon: #696969;\n",
       "\n",
       "  @media (prefers-color-scheme: dark) {\n",
       "    /* Redefinition of color scheme for dark theme */\n",
       "    --sklearn-color-text-on-default-background: var(--sg-text-color, var(--theme-code-foreground, var(--jp-content-font-color1, white)));\n",
       "    --sklearn-color-background: var(--sg-background-color, var(--theme-background, var(--jp-layout-color0, #111)));\n",
       "    --sklearn-color-border-box: var(--sg-text-color, var(--theme-code-foreground, var(--jp-content-font-color1, white)));\n",
       "    --sklearn-color-icon: #878787;\n",
       "  }\n",
       "}\n",
       "\n",
       "#sk-container-id-1 {\n",
       "  color: var(--sklearn-color-text);\n",
       "}\n",
       "\n",
       "#sk-container-id-1 pre {\n",
       "  padding: 0;\n",
       "}\n",
       "\n",
       "#sk-container-id-1 input.sk-hidden--visually {\n",
       "  border: 0;\n",
       "  clip: rect(1px 1px 1px 1px);\n",
       "  clip: rect(1px, 1px, 1px, 1px);\n",
       "  height: 1px;\n",
       "  margin: -1px;\n",
       "  overflow: hidden;\n",
       "  padding: 0;\n",
       "  position: absolute;\n",
       "  width: 1px;\n",
       "}\n",
       "\n",
       "#sk-container-id-1 div.sk-dashed-wrapped {\n",
       "  border: 1px dashed var(--sklearn-color-line);\n",
       "  margin: 0 0.4em 0.5em 0.4em;\n",
       "  box-sizing: border-box;\n",
       "  padding-bottom: 0.4em;\n",
       "  background-color: var(--sklearn-color-background);\n",
       "}\n",
       "\n",
       "#sk-container-id-1 div.sk-container {\n",
       "  /* jupyter's `normalize.less` sets `[hidden] { display: none; }`\n",
       "     but bootstrap.min.css set `[hidden] { display: none !important; }`\n",
       "     so we also need the `!important` here to be able to override the\n",
       "     default hidden behavior on the sphinx rendered scikit-learn.org.\n",
       "     See: https://github.com/scikit-learn/scikit-learn/issues/21755 */\n",
       "  display: inline-block !important;\n",
       "  position: relative;\n",
       "}\n",
       "\n",
       "#sk-container-id-1 div.sk-text-repr-fallback {\n",
       "  display: none;\n",
       "}\n",
       "\n",
       "div.sk-parallel-item,\n",
       "div.sk-serial,\n",
       "div.sk-item {\n",
       "  /* draw centered vertical line to link estimators */\n",
       "  background-image: linear-gradient(var(--sklearn-color-text-on-default-background), var(--sklearn-color-text-on-default-background));\n",
       "  background-size: 2px 100%;\n",
       "  background-repeat: no-repeat;\n",
       "  background-position: center center;\n",
       "}\n",
       "\n",
       "/* Parallel-specific style estimator block */\n",
       "\n",
       "#sk-container-id-1 div.sk-parallel-item::after {\n",
       "  content: \"\";\n",
       "  width: 100%;\n",
       "  border-bottom: 2px solid var(--sklearn-color-text-on-default-background);\n",
       "  flex-grow: 1;\n",
       "}\n",
       "\n",
       "#sk-container-id-1 div.sk-parallel {\n",
       "  display: flex;\n",
       "  align-items: stretch;\n",
       "  justify-content: center;\n",
       "  background-color: var(--sklearn-color-background);\n",
       "  position: relative;\n",
       "}\n",
       "\n",
       "#sk-container-id-1 div.sk-parallel-item {\n",
       "  display: flex;\n",
       "  flex-direction: column;\n",
       "}\n",
       "\n",
       "#sk-container-id-1 div.sk-parallel-item:first-child::after {\n",
       "  align-self: flex-end;\n",
       "  width: 50%;\n",
       "}\n",
       "\n",
       "#sk-container-id-1 div.sk-parallel-item:last-child::after {\n",
       "  align-self: flex-start;\n",
       "  width: 50%;\n",
       "}\n",
       "\n",
       "#sk-container-id-1 div.sk-parallel-item:only-child::after {\n",
       "  width: 0;\n",
       "}\n",
       "\n",
       "/* Serial-specific style estimator block */\n",
       "\n",
       "#sk-container-id-1 div.sk-serial {\n",
       "  display: flex;\n",
       "  flex-direction: column;\n",
       "  align-items: center;\n",
       "  background-color: var(--sklearn-color-background);\n",
       "  padding-right: 1em;\n",
       "  padding-left: 1em;\n",
       "}\n",
       "\n",
       "\n",
       "/* Toggleable style: style used for estimator/Pipeline/ColumnTransformer box that is\n",
       "clickable and can be expanded/collapsed.\n",
       "- Pipeline and ColumnTransformer use this feature and define the default style\n",
       "- Estimators will overwrite some part of the style using the `sk-estimator` class\n",
       "*/\n",
       "\n",
       "/* Pipeline and ColumnTransformer style (default) */\n",
       "\n",
       "#sk-container-id-1 div.sk-toggleable {\n",
       "  /* Default theme specific background. It is overwritten whether we have a\n",
       "  specific estimator or a Pipeline/ColumnTransformer */\n",
       "  background-color: var(--sklearn-color-background);\n",
       "}\n",
       "\n",
       "/* Toggleable label */\n",
       "#sk-container-id-1 label.sk-toggleable__label {\n",
       "  cursor: pointer;\n",
       "  display: flex;\n",
       "  width: 100%;\n",
       "  margin-bottom: 0;\n",
       "  padding: 0.5em;\n",
       "  box-sizing: border-box;\n",
       "  text-align: center;\n",
       "  align-items: start;\n",
       "  justify-content: space-between;\n",
       "  gap: 0.5em;\n",
       "}\n",
       "\n",
       "#sk-container-id-1 label.sk-toggleable__label .caption {\n",
       "  font-size: 0.6rem;\n",
       "  font-weight: lighter;\n",
       "  color: var(--sklearn-color-text-muted);\n",
       "}\n",
       "\n",
       "#sk-container-id-1 label.sk-toggleable__label-arrow:before {\n",
       "  /* Arrow on the left of the label */\n",
       "  content: \"▸\";\n",
       "  float: left;\n",
       "  margin-right: 0.25em;\n",
       "  color: var(--sklearn-color-icon);\n",
       "}\n",
       "\n",
       "#sk-container-id-1 label.sk-toggleable__label-arrow:hover:before {\n",
       "  color: var(--sklearn-color-text);\n",
       "}\n",
       "\n",
       "/* Toggleable content - dropdown */\n",
       "\n",
       "#sk-container-id-1 div.sk-toggleable__content {\n",
       "  max-height: 0;\n",
       "  max-width: 0;\n",
       "  overflow: hidden;\n",
       "  text-align: left;\n",
       "  /* unfitted */\n",
       "  background-color: var(--sklearn-color-unfitted-level-0);\n",
       "}\n",
       "\n",
       "#sk-container-id-1 div.sk-toggleable__content.fitted {\n",
       "  /* fitted */\n",
       "  background-color: var(--sklearn-color-fitted-level-0);\n",
       "}\n",
       "\n",
       "#sk-container-id-1 div.sk-toggleable__content pre {\n",
       "  margin: 0.2em;\n",
       "  border-radius: 0.25em;\n",
       "  color: var(--sklearn-color-text);\n",
       "  /* unfitted */\n",
       "  background-color: var(--sklearn-color-unfitted-level-0);\n",
       "}\n",
       "\n",
       "#sk-container-id-1 div.sk-toggleable__content.fitted pre {\n",
       "  /* unfitted */\n",
       "  background-color: var(--sklearn-color-fitted-level-0);\n",
       "}\n",
       "\n",
       "#sk-container-id-1 input.sk-toggleable__control:checked~div.sk-toggleable__content {\n",
       "  /* Expand drop-down */\n",
       "  max-height: 200px;\n",
       "  max-width: 100%;\n",
       "  overflow: auto;\n",
       "}\n",
       "\n",
       "#sk-container-id-1 input.sk-toggleable__control:checked~label.sk-toggleable__label-arrow:before {\n",
       "  content: \"▾\";\n",
       "}\n",
       "\n",
       "/* Pipeline/ColumnTransformer-specific style */\n",
       "\n",
       "#sk-container-id-1 div.sk-label input.sk-toggleable__control:checked~label.sk-toggleable__label {\n",
       "  color: var(--sklearn-color-text);\n",
       "  background-color: var(--sklearn-color-unfitted-level-2);\n",
       "}\n",
       "\n",
       "#sk-container-id-1 div.sk-label.fitted input.sk-toggleable__control:checked~label.sk-toggleable__label {\n",
       "  background-color: var(--sklearn-color-fitted-level-2);\n",
       "}\n",
       "\n",
       "/* Estimator-specific style */\n",
       "\n",
       "/* Colorize estimator box */\n",
       "#sk-container-id-1 div.sk-estimator input.sk-toggleable__control:checked~label.sk-toggleable__label {\n",
       "  /* unfitted */\n",
       "  background-color: var(--sklearn-color-unfitted-level-2);\n",
       "}\n",
       "\n",
       "#sk-container-id-1 div.sk-estimator.fitted input.sk-toggleable__control:checked~label.sk-toggleable__label {\n",
       "  /* fitted */\n",
       "  background-color: var(--sklearn-color-fitted-level-2);\n",
       "}\n",
       "\n",
       "#sk-container-id-1 div.sk-label label.sk-toggleable__label,\n",
       "#sk-container-id-1 div.sk-label label {\n",
       "  /* The background is the default theme color */\n",
       "  color: var(--sklearn-color-text-on-default-background);\n",
       "}\n",
       "\n",
       "/* On hover, darken the color of the background */\n",
       "#sk-container-id-1 div.sk-label:hover label.sk-toggleable__label {\n",
       "  color: var(--sklearn-color-text);\n",
       "  background-color: var(--sklearn-color-unfitted-level-2);\n",
       "}\n",
       "\n",
       "/* Label box, darken color on hover, fitted */\n",
       "#sk-container-id-1 div.sk-label.fitted:hover label.sk-toggleable__label.fitted {\n",
       "  color: var(--sklearn-color-text);\n",
       "  background-color: var(--sklearn-color-fitted-level-2);\n",
       "}\n",
       "\n",
       "/* Estimator label */\n",
       "\n",
       "#sk-container-id-1 div.sk-label label {\n",
       "  font-family: monospace;\n",
       "  font-weight: bold;\n",
       "  display: inline-block;\n",
       "  line-height: 1.2em;\n",
       "}\n",
       "\n",
       "#sk-container-id-1 div.sk-label-container {\n",
       "  text-align: center;\n",
       "}\n",
       "\n",
       "/* Estimator-specific */\n",
       "#sk-container-id-1 div.sk-estimator {\n",
       "  font-family: monospace;\n",
       "  border: 1px dotted var(--sklearn-color-border-box);\n",
       "  border-radius: 0.25em;\n",
       "  box-sizing: border-box;\n",
       "  margin-bottom: 0.5em;\n",
       "  /* unfitted */\n",
       "  background-color: var(--sklearn-color-unfitted-level-0);\n",
       "}\n",
       "\n",
       "#sk-container-id-1 div.sk-estimator.fitted {\n",
       "  /* fitted */\n",
       "  background-color: var(--sklearn-color-fitted-level-0);\n",
       "}\n",
       "\n",
       "/* on hover */\n",
       "#sk-container-id-1 div.sk-estimator:hover {\n",
       "  /* unfitted */\n",
       "  background-color: var(--sklearn-color-unfitted-level-2);\n",
       "}\n",
       "\n",
       "#sk-container-id-1 div.sk-estimator.fitted:hover {\n",
       "  /* fitted */\n",
       "  background-color: var(--sklearn-color-fitted-level-2);\n",
       "}\n",
       "\n",
       "/* Specification for estimator info (e.g. \"i\" and \"?\") */\n",
       "\n",
       "/* Common style for \"i\" and \"?\" */\n",
       "\n",
       ".sk-estimator-doc-link,\n",
       "a:link.sk-estimator-doc-link,\n",
       "a:visited.sk-estimator-doc-link {\n",
       "  float: right;\n",
       "  font-size: smaller;\n",
       "  line-height: 1em;\n",
       "  font-family: monospace;\n",
       "  background-color: var(--sklearn-color-background);\n",
       "  border-radius: 1em;\n",
       "  height: 1em;\n",
       "  width: 1em;\n",
       "  text-decoration: none !important;\n",
       "  margin-left: 0.5em;\n",
       "  text-align: center;\n",
       "  /* unfitted */\n",
       "  border: var(--sklearn-color-unfitted-level-1) 1pt solid;\n",
       "  color: var(--sklearn-color-unfitted-level-1);\n",
       "}\n",
       "\n",
       ".sk-estimator-doc-link.fitted,\n",
       "a:link.sk-estimator-doc-link.fitted,\n",
       "a:visited.sk-estimator-doc-link.fitted {\n",
       "  /* fitted */\n",
       "  border: var(--sklearn-color-fitted-level-1) 1pt solid;\n",
       "  color: var(--sklearn-color-fitted-level-1);\n",
       "}\n",
       "\n",
       "/* On hover */\n",
       "div.sk-estimator:hover .sk-estimator-doc-link:hover,\n",
       ".sk-estimator-doc-link:hover,\n",
       "div.sk-label-container:hover .sk-estimator-doc-link:hover,\n",
       ".sk-estimator-doc-link:hover {\n",
       "  /* unfitted */\n",
       "  background-color: var(--sklearn-color-unfitted-level-3);\n",
       "  color: var(--sklearn-color-background);\n",
       "  text-decoration: none;\n",
       "}\n",
       "\n",
       "div.sk-estimator.fitted:hover .sk-estimator-doc-link.fitted:hover,\n",
       ".sk-estimator-doc-link.fitted:hover,\n",
       "div.sk-label-container:hover .sk-estimator-doc-link.fitted:hover,\n",
       ".sk-estimator-doc-link.fitted:hover {\n",
       "  /* fitted */\n",
       "  background-color: var(--sklearn-color-fitted-level-3);\n",
       "  color: var(--sklearn-color-background);\n",
       "  text-decoration: none;\n",
       "}\n",
       "\n",
       "/* Span, style for the box shown on hovering the info icon */\n",
       ".sk-estimator-doc-link span {\n",
       "  display: none;\n",
       "  z-index: 9999;\n",
       "  position: relative;\n",
       "  font-weight: normal;\n",
       "  right: .2ex;\n",
       "  padding: .5ex;\n",
       "  margin: .5ex;\n",
       "  width: min-content;\n",
       "  min-width: 20ex;\n",
       "  max-width: 50ex;\n",
       "  color: var(--sklearn-color-text);\n",
       "  box-shadow: 2pt 2pt 4pt #999;\n",
       "  /* unfitted */\n",
       "  background: var(--sklearn-color-unfitted-level-0);\n",
       "  border: .5pt solid var(--sklearn-color-unfitted-level-3);\n",
       "}\n",
       "\n",
       ".sk-estimator-doc-link.fitted span {\n",
       "  /* fitted */\n",
       "  background: var(--sklearn-color-fitted-level-0);\n",
       "  border: var(--sklearn-color-fitted-level-3);\n",
       "}\n",
       "\n",
       ".sk-estimator-doc-link:hover span {\n",
       "  display: block;\n",
       "}\n",
       "\n",
       "/* \"?\"-specific style due to the `<a>` HTML tag */\n",
       "\n",
       "#sk-container-id-1 a.estimator_doc_link {\n",
       "  float: right;\n",
       "  font-size: 1rem;\n",
       "  line-height: 1em;\n",
       "  font-family: monospace;\n",
       "  background-color: var(--sklearn-color-background);\n",
       "  border-radius: 1rem;\n",
       "  height: 1rem;\n",
       "  width: 1rem;\n",
       "  text-decoration: none;\n",
       "  /* unfitted */\n",
       "  color: var(--sklearn-color-unfitted-level-1);\n",
       "  border: var(--sklearn-color-unfitted-level-1) 1pt solid;\n",
       "}\n",
       "\n",
       "#sk-container-id-1 a.estimator_doc_link.fitted {\n",
       "  /* fitted */\n",
       "  border: var(--sklearn-color-fitted-level-1) 1pt solid;\n",
       "  color: var(--sklearn-color-fitted-level-1);\n",
       "}\n",
       "\n",
       "/* On hover */\n",
       "#sk-container-id-1 a.estimator_doc_link:hover {\n",
       "  /* unfitted */\n",
       "  background-color: var(--sklearn-color-unfitted-level-3);\n",
       "  color: var(--sklearn-color-background);\n",
       "  text-decoration: none;\n",
       "}\n",
       "\n",
       "#sk-container-id-1 a.estimator_doc_link.fitted:hover {\n",
       "  /* fitted */\n",
       "  background-color: var(--sklearn-color-fitted-level-3);\n",
       "}\n",
       "</style><div id=\"sk-container-id-1\" class=\"sk-top-container\"><div class=\"sk-text-repr-fallback\"><pre>XGBClassifier(base_score=None, booster=None, callbacks=None,\n",
       "              colsample_bylevel=None, colsample_bynode=None,\n",
       "              colsample_bytree=None, device=None, early_stopping_rounds=None,\n",
       "              enable_categorical=False, eval_metric=&#x27;logloss&#x27;,\n",
       "              feature_types=None, feature_weights=None, gamma=None,\n",
       "              grow_policy=None, importance_type=None,\n",
       "              interaction_constraints=None, learning_rate=None, max_bin=None,\n",
       "              max_cat_threshold=None, max_cat_to_onehot=None,\n",
       "              max_delta_step=None, max_depth=None, max_leaves=None,\n",
       "              min_child_weight=None, missing=nan, monotone_constraints=None,\n",
       "              multi_strategy=None, n_estimators=None, n_jobs=None,\n",
       "              num_parallel_tree=None, ...)</pre><b>In a Jupyter environment, please rerun this cell to show the HTML representation or trust the notebook. <br />On GitHub, the HTML representation is unable to render, please try loading this page with nbviewer.org.</b></div><div class=\"sk-container\" hidden><div class=\"sk-item\"><div class=\"sk-estimator fitted sk-toggleable\"><input class=\"sk-toggleable__control sk-hidden--visually\" id=\"sk-estimator-id-1\" type=\"checkbox\" checked><label for=\"sk-estimator-id-1\" class=\"sk-toggleable__label fitted sk-toggleable__label-arrow\"><div><div>XGBClassifier</div></div><div><a class=\"sk-estimator-doc-link fitted\" rel=\"noreferrer\" target=\"_blank\" href=\"https://xgboost.readthedocs.io/en/release_3.0.0/python/python_api.html#xgboost.XGBClassifier\">?<span>Documentation for XGBClassifier</span></a><span class=\"sk-estimator-doc-link fitted\">i<span>Fitted</span></span></div></label><div class=\"sk-toggleable__content fitted\"><pre>XGBClassifier(base_score=None, booster=None, callbacks=None,\n",
       "              colsample_bylevel=None, colsample_bynode=None,\n",
       "              colsample_bytree=None, device=None, early_stopping_rounds=None,\n",
       "              enable_categorical=False, eval_metric=&#x27;logloss&#x27;,\n",
       "              feature_types=None, feature_weights=None, gamma=None,\n",
       "              grow_policy=None, importance_type=None,\n",
       "              interaction_constraints=None, learning_rate=None, max_bin=None,\n",
       "              max_cat_threshold=None, max_cat_to_onehot=None,\n",
       "              max_delta_step=None, max_depth=None, max_leaves=None,\n",
       "              min_child_weight=None, missing=nan, monotone_constraints=None,\n",
       "              multi_strategy=None, n_estimators=None, n_jobs=None,\n",
       "              num_parallel_tree=None, ...)</pre></div> </div></div></div></div>"
      ],
      "text/plain": [
       "XGBClassifier(base_score=None, booster=None, callbacks=None,\n",
       "              colsample_bylevel=None, colsample_bynode=None,\n",
       "              colsample_bytree=None, device=None, early_stopping_rounds=None,\n",
       "              enable_categorical=False, eval_metric='logloss',\n",
       "              feature_types=None, feature_weights=None, gamma=None,\n",
       "              grow_policy=None, importance_type=None,\n",
       "              interaction_constraints=None, learning_rate=None, max_bin=None,\n",
       "              max_cat_threshold=None, max_cat_to_onehot=None,\n",
       "              max_delta_step=None, max_depth=None, max_leaves=None,\n",
       "              min_child_weight=None, missing=nan, monotone_constraints=None,\n",
       "              multi_strategy=None, n_estimators=None, n_jobs=None,\n",
       "              num_parallel_tree=None, ...)"
      ]
     },
     "execution_count": 18,
     "metadata": {},
     "output_type": "execute_result"
    }
   ],
   "source": [
    "# Entrenamos el modelo con nuestros datos escalados\n",
    "xgb_model.fit(X_train_scaled, y_train)"
   ]
  },
  {
   "cell_type": "code",
   "execution_count": 22,
   "metadata": {},
   "outputs": [],
   "source": [
    "# Predicción sobre churn\n",
    "y_pred_xgb = xgb_model.predict(X_test_scaled)\n"
   ]
  },
  {
   "cell_type": "code",
   "execution_count": 24,
   "metadata": {},
   "outputs": [
    {
     "name": "stdout",
     "output_type": "stream",
     "text": [
      "Accuracy con XGBoost: 0.9999\n"
     ]
    }
   ],
   "source": [
    "# Accuracy \n",
    "acc_xgb = accuracy_score(y_test, y_pred_xgb)\n",
    "print(f\"Accuracy con XGBoost: {acc_xgb:.4f}\")"
   ]
  },
  {
   "cell_type": "code",
   "execution_count": 25,
   "metadata": {},
   "outputs": [
    {
     "name": "stdout",
     "output_type": "stream",
     "text": [
      "\n",
      "Matriz de confusión:\n",
      "[[38167     0]\n",
      " [    7 49993]]\n"
     ]
    }
   ],
   "source": [
    "# Matriz de confusión\n",
    "print(\"\\nMatriz de confusión:\")\n",
    "print(confusion_matrix(y_test, y_pred_xgb))"
   ]
  },
  {
   "cell_type": "code",
   "execution_count": 26,
   "metadata": {},
   "outputs": [
    {
     "name": "stdout",
     "output_type": "stream",
     "text": [
      "\n",
      "Reporte de clasificación:\n",
      "              precision    recall  f1-score   support\n",
      "\n",
      "           0       1.00      1.00      1.00     38167\n",
      "           1       1.00      1.00      1.00     50000\n",
      "\n",
      "    accuracy                           1.00     88167\n",
      "   macro avg       1.00      1.00      1.00     88167\n",
      "weighted avg       1.00      1.00      1.00     88167\n",
      "\n"
     ]
    }
   ],
   "source": [
    "\n",
    "# Precisión, recall, F1-score\n",
    "print(\"\\nReporte de clasificación:\")\n",
    "print(classification_report(y_test, y_pred_xgb))"
   ]
  },
  {
   "cell_type": "markdown",
   "metadata": {},
   "source": [
    "### ⚠️ Resultados sospechosos\n",
    "\n",
    "Este modelo  muestra métricas métricas excesivamente perfectas (accuracy de 99.9%, f1-score de 1.00), lo cual no es habitual en un problema real como la predicción de abandono de clientes. Esto indica una posible **fuga de información**, es decir, que el modelo estaba accediendo a variables que contenían pistas del futuro o directamente del resultado por lo que es necesario estudiar la importancia que tienen distintas variables en el modelo. Variables como \"Total Spend\", \"Payment Delay\", \"Last Interaction\" pueden estar en los primeros puestos, lo que indica posibilidad de estar relacionadas directamente con el hecho de que el cliente se fue.\n"
   ]
  },
  {
   "cell_type": "code",
   "execution_count": 27,
   "metadata": {},
   "outputs": [
    {
     "data": {
      "image/png": "[encoded data removed]",
      "text/plain": [
       "<Figure size 1000x600 with 1 Axes>"
      ]
     },
     "metadata": {},
     "output_type": "display_data"
    },
    {
     "data": {
      "text/html": [
       "<div>\n",
       "<style scoped>\n",
       "    .dataframe tbody tr th:only-of-type {\n",
       "        vertical-align: middle;\n",
       "    }\n",
       "\n",
       "    .dataframe tbody tr th {\n",
       "        vertical-align: top;\n",
       "    }\n",
       "\n",
       "    .dataframe thead th {\n",
       "        text-align: right;\n",
       "    }\n",
       "</style>\n",
       "<table border=\"1\" class=\"dataframe\">\n",
       "  <thead>\n",
       "    <tr style=\"text-align: right;\">\n",
       "      <th></th>\n",
       "      <th>Feature</th>\n",
       "      <th>Importance</th>\n",
       "    </tr>\n",
       "  </thead>\n",
       "  <tbody>\n",
       "    <tr>\n",
       "      <th>10</th>\n",
       "      <td>Contract Length_Monthly</td>\n",
       "      <td>0.290844</td>\n",
       "    </tr>\n",
       "    <tr>\n",
       "      <th>5</th>\n",
       "      <td>Total Spend</td>\n",
       "      <td>0.226135</td>\n",
       "    </tr>\n",
       "    <tr>\n",
       "      <th>3</th>\n",
       "      <td>Support Calls</td>\n",
       "      <td>0.204771</td>\n",
       "    </tr>\n",
       "    <tr>\n",
       "      <th>4</th>\n",
       "      <td>Payment Delay</td>\n",
       "      <td>0.130760</td>\n",
       "    </tr>\n",
       "    <tr>\n",
       "      <th>6</th>\n",
       "      <td>Last Interaction</td>\n",
       "      <td>0.055545</td>\n",
       "    </tr>\n",
       "    <tr>\n",
       "      <th>0</th>\n",
       "      <td>Age</td>\n",
       "      <td>0.046028</td>\n",
       "    </tr>\n",
       "    <tr>\n",
       "      <th>7</th>\n",
       "      <td>Gender_Male</td>\n",
       "      <td>0.017044</td>\n",
       "    </tr>\n",
       "    <tr>\n",
       "      <th>8</th>\n",
       "      <td>Subscription Type_Premium</td>\n",
       "      <td>0.011828</td>\n",
       "    </tr>\n",
       "    <tr>\n",
       "      <th>9</th>\n",
       "      <td>Subscription Type_Standard</td>\n",
       "      <td>0.006602</td>\n",
       "    </tr>\n",
       "    <tr>\n",
       "      <th>1</th>\n",
       "      <td>Tenure</td>\n",
       "      <td>0.006353</td>\n",
       "    </tr>\n",
       "    <tr>\n",
       "      <th>2</th>\n",
       "      <td>Usage Frequency</td>\n",
       "      <td>0.004049</td>\n",
       "    </tr>\n",
       "    <tr>\n",
       "      <th>11</th>\n",
       "      <td>Contract Length_Quarterly</td>\n",
       "      <td>0.000042</td>\n",
       "    </tr>\n",
       "  </tbody>\n",
       "</table>\n",
       "</div>"
      ],
      "text/plain": [
       "                       Feature  Importance\n",
       "10     Contract Length_Monthly    0.290844\n",
       "5                  Total Spend    0.226135\n",
       "3                Support Calls    0.204771\n",
       "4                Payment Delay    0.130760\n",
       "6             Last Interaction    0.055545\n",
       "0                          Age    0.046028\n",
       "7                  Gender_Male    0.017044\n",
       "8    Subscription Type_Premium    0.011828\n",
       "9   Subscription Type_Standard    0.006602\n",
       "1                       Tenure    0.006353\n",
       "2              Usage Frequency    0.004049\n",
       "11   Contract Length_Quarterly    0.000042"
      ]
     },
     "execution_count": 27,
     "metadata": {},
     "output_type": "execute_result"
    }
   ],
   "source": [
    "# Extraer importancia de cada variable\n",
    "importances = xgb_model.feature_importances_\n",
    "features = X_train.columns\n",
    "\n",
    "# Crear un DataFrame ordenado por importancia\n",
    "feat_importance = pd.DataFrame({'Feature': features, 'Importance': importances})\n",
    "feat_importance = feat_importance.sort_values(by='Importance', ascending=False)\n",
    "\n",
    "# Mostrar top 10 variables\n",
    "plt.figure(figsize=(10,6))\n",
    "sns.barplot(x='Importance', y='Feature', data=feat_importance.head(10))\n",
    "plt.title(\"Top 10 Variables más importantes en el modelo\")\n",
    "plt.xlabel(\"Importancia\")\n",
    "plt.ylabel(\"Variable\")\n",
    "plt.tight_layout()\n",
    "plt.show()\n",
    "\n",
    "# Mostrar tabla completa si quieres\n",
    "feat_importance.head(20)"
   ]
  },
  {
   "cell_type": "code",
   "execution_count": 28,
   "metadata": {},
   "outputs": [],
   "source": [
    "# Lista de columnas que podrían estar causando fuga de información\n",
    "cols_fuga = ['Total Spend', 'Payment Delay', 'Last Interaction']\n",
    "\n",
    "# Creamos una nueva copia del dataset sin esas columnas\n",
    "X_clean = X.drop(cols_fuga, axis=1)\n",
    "\n",
    "# Mantenemos la misma y\n",
    "y_clean = y.copy()\n",
    "\n",
    "# Dividimos de nuevo en train y validación\n",
    "X_train_clean, X_val_clean, y_train_clean, y_val_clean = train_test_split(\n",
    "    X_clean, y_clean, test_size=0.2, random_state=42, stratify=y_clean\n",
    ")\n",
    "\n",
    "# Escalado\n",
    "scaler_clean = StandardScaler()\n",
    "X_train_clean_scaled = scaler_clean.fit_transform(X_train_clean)\n",
    "X_val_clean_scaled = scaler_clean.transform(X_val_clean)\n"
   ]
  },
  {
   "cell_type": "code",
   "execution_count": 29,
   "metadata": {},
   "outputs": [
    {
     "name": "stderr",
     "output_type": "stream",
     "text": [
      "c:\\Users\\iagog\\AppData\\Local\\Programs\\Python\\Python311\\Lib\\site-packages\\xgboost\\training.py:183: UserWarning: [15:41:35] WARNING: C:\\actions-runner\\_work\\xgboost\\xgboost\\src\\learner.cc:738: \n",
      "Parameters: { \"use_label_encoder\" } are not used.\n",
      "\n",
      "  bst.update(dtrain, iteration=i, fobj=obj)\n"
     ]
    },
    {
     "name": "stdout",
     "output_type": "stream",
     "text": [
      "Accuracy sin variables sospechosas: 0.9347374868147946\n",
      "\n",
      "Matriz de confusión:\n",
      "[[38165     2]\n",
      " [ 5752 44248]]\n",
      "\n",
      "Reporte de clasificación:\n",
      "              precision    recall  f1-score   support\n",
      "\n",
      "           0       0.87      1.00      0.93     38167\n",
      "           1       1.00      0.88      0.94     50000\n",
      "\n",
      "    accuracy                           0.93     88167\n",
      "   macro avg       0.93      0.94      0.93     88167\n",
      "weighted avg       0.94      0.93      0.94     88167\n",
      "\n"
     ]
    }
   ],
   "source": [
    "\n",
    "# Nuevo modelo\n",
    "xgb_clean = XGBClassifier(use_label_encoder=False, eval_metric='logloss', random_state=42)\n",
    "xgb_clean.fit(X_train_clean_scaled, y_train_clean)\n",
    "\n",
    "# Predicciones\n",
    "y_pred_clean = xgb_clean.predict(X_val_clean_scaled)\n",
    "\n",
    "# Evaluación\n",
    "print(\"Accuracy sin variables sospechosas:\", accuracy_score(y_val_clean, y_pred_clean))\n",
    "print(\"\\nMatriz de confusión:\")\n",
    "print(confusion_matrix(y_val_clean, y_pred_clean))\n",
    "print(\"\\nReporte de clasificación:\")\n",
    "print(classification_report(y_val_clean, y_pred_clean))\n"
   ]
  },
  {
   "cell_type": "markdown",
   "metadata": {},
   "source": [
    "### ✅ Corrección de fuga y mejora del modelo\n",
    "\n",
    "Para evitar la fuga de información, se identificaron y eliminaron tres variables del conjunto de datos: `Total Spend`, `Payment Delay` y `Last Interaction`, ya que contenían información que podía reflejar el comportamiento del cliente después del abandono. \n",
    "\n",
    "Se reentrenó el modelo con XGBoost sin esas variables y se obtuvo un accuracy más realista (93.5%) y métricas equilibradas. Esto confirma que el nuevo modelo es más fiable y generalizable.\n"
   ]
  },
  {
   "cell_type": "markdown",
   "metadata": {},
   "source": [
    "**Paso 6: Guardado del modelo entrenado**\n",
    "\n",
    "Una vez entrenado el modelo final de XGBoost sin variables con fuga, se guarda junto al escalador para su reutilización futura. Esto permite cargar el modelo sin necesidad de volver a entrenarlo.\n"
   ]
  },
  {
   "cell_type": "code",
   "execution_count": 30,
   "metadata": {},
   "outputs": [
    {
     "data": {
      "text/plain": [
       "['c:\\\\Users\\\\iagog\\\\Desktop\\\\ML_customer_churn\\\\src\\\\src\\\\models\\\\scaler.joblib']"
      ]
     },
     "execution_count": 30,
     "metadata": {},
     "output_type": "execute_result"
    }
   ],
   "source": [
    "\n",
    "# Ruta a la carpeta 'models' desde el directorio 'notebooks'\n",
    "models_path = os.path.join(os.path.abspath(os.path.join(os.getcwd(), '..')), 'src', 'models')\n",
    "\n",
    "# Asegurarse de que la carpeta 'models' exista\n",
    "os.makedirs(models_path, exist_ok=True)\n",
    "\n",
    "# Guardar el modelo XGBoost en la carpeta correcta\n",
    "joblib.dump(xgb_clean, os.path.join(models_path, 'xgb_churn_model.joblib'))\n",
    "\n",
    "# Guardar el escalador en la misma carpeta\n",
    "joblib.dump(scaler_clean, os.path.join(models_path, 'scaler.joblib'))"
   ]
  },
  {
   "cell_type": "markdown",
   "metadata": {},
   "source": [
    "## PREDICCIONES\n",
    "\n",
    "En esta sección, cargamos el modelo y el escalador guardados para hacer predicciones sobre nuevos datos. Mostramos cómo el modelo entrenado puede predecir si un cliente abandonará o no.\n",
    "\n"
   ]
  },
  {
   "cell_type": "markdown",
   "metadata": {},
   "source": [
    "**Ejemplo**\n",
    "\n",
    "### **Cliente 1**\n",
    "\n",
    "- **Edad:** 35 años  \n",
    "- **Género:** Masculino (1)  \n",
    "- **Gasto Total:** 150 unidades monetarias  \n",
    "- **Antigüedad (Tenure):** 6 meses  \n",
    "- **Frecuencia de Uso:** 3 veces al mes  \n",
    "- **Llamadas al Soporte:** 2 veces  \n",
    "- **Tipo de Suscripción:** Premium (1), Standard (0)  \n",
    "- **Tipo de Contrato:** Mensual (1), Trimestral (0)\n",
    "\n",
    "---\n",
    "\n",
    "### **Cliente 2**\n",
    "\n",
    "- **Edad:** 40 años  \n",
    "- **Género:** Femenino (0)  \n",
    "- **Gasto Total:** 250 unidades monetarias  \n",
    "- **Antigüedad (Tenure):** 16 meses  \n",
    "- **Frecuencia de Uso:** 1 vez al mes  \n",
    "- **Llamadas al Soporte:** 0 veces  \n",
    "- **Tipo de Suscripción:** Premium (1), Standard (0)  \n",
    "- **Tipo de Contrato:** Mensual (1), Trimestral (0)\n"
   ]
  },
  {
   "cell_type": "code",
   "execution_count": 31,
   "metadata": {},
   "outputs": [
    {
     "data": {
      "text/plain": [
       "Index(['Age', 'Tenure', 'Usage Frequency', 'Support Calls', 'Gender_Male',\n",
       "       'Subscription Type_Premium', 'Subscription Type_Standard',\n",
       "       'Contract Length_Monthly', 'Contract Length_Quarterly'],\n",
       "      dtype='object')"
      ]
     },
     "execution_count": 31,
     "metadata": {},
     "output_type": "execute_result"
    }
   ],
   "source": [
    "X_train_clean.columns"
   ]
  },
  {
   "cell_type": "markdown",
   "metadata": {},
   "source": [
    "**CLIENTE 1**"
   ]
  },
  {
   "cell_type": "code",
   "execution_count": 32,
   "metadata": {},
   "outputs": [
    {
     "name": "stdout",
     "output_type": "stream",
     "text": [
      "Predicción para el cliente 1: El cliente probablemente no hará churn (se quedará).\n"
     ]
    }
   ],
   "source": [
    "# Cargar el modelo y el escalador guardados\n",
    "xgb_model_loaded = joblib.load(\"C:/Users/iagog/Desktop/ML_customer_churn/src/models/xgb_churn_model.joblib\")\n",
    "scaler_loaded = joblib.load(\"C:/Users/iagog/Desktop/ML_customer_churn/src/models/scaler.joblib\")\n",
    "\n",
    "# Nuevos datos para predecir (todos los valores conocidos)\n",
    "new_data = [[35, 6, 3, 2, 1, 0, 1, 0]]  # Edad, Tenure, Usage Frequency, Support Calls, Gender_Male, Subscription Type_Premium, Subscription Type_Standard, Contract Length_Monthly\n",
    "\n",
    "# Crear un DataFrame con las nuevas entradas\n",
    "new_data_df = pd.DataFrame(new_data, columns=['Age', 'Tenure', 'Usage Frequency', 'Support Calls', 'Gender_Male', 'Subscription Type_Premium', 'Subscription Type_Standard', 'Contract Length_Monthly'])\n",
    "\n",
    "# Asegurarnos de que las columnas de los nuevos datos coincidan con las del modelo\n",
    "# Si alguna columna falta, la agregamos con 0\n",
    "missing_cols = set(X_train_clean.columns) - set(new_data_df.columns)\n",
    "for col in missing_cols:\n",
    "    new_data_df[col] = 0  # Asignar 0 a las columnas faltantes\n",
    "\n",
    "# Reordenar las columnas para que coincidan con las del modelo entrenado\n",
    "new_data_df = new_data_df[X_train_clean.columns]\n",
    "\n",
    "# Codificar las variables categóricas (si es necesario)\n",
    "new_data_encoded = pd.get_dummies(new_data_df, drop_first=True)\n",
    "\n",
    "# Escalar los nuevos datos con el escalador cargado\n",
    "new_data_scaled = scaler_loaded.transform(new_data_encoded)\n",
    "\n",
    "# Realizar la predicción\n",
    "prediction = xgb_model_loaded.predict(new_data_scaled)\n",
    "\n",
    "# Mostrar la predicción\n",
    "if prediction[0] == 1:\n",
    "    print(\"Predicción para el cliente 1: El cliente probablemente hará churn (se irá).\")\n",
    "else:\n",
    "    print(\"Predicción para el cliente 1: El cliente probablemente no hará churn (se quedará).\")"
   ]
  },
  {
   "cell_type": "markdown",
   "metadata": {},
   "source": [
    "**CLIENTE 2**"
   ]
  },
  {
   "cell_type": "code",
   "execution_count": 33,
   "metadata": {},
   "outputs": [
    {
     "name": "stdout",
     "output_type": "stream",
     "text": [
      "Predicción para el Cliente 2: El cliente probablemente hará churn (se irá).\n"
     ]
    }
   ],
   "source": [
    "new_data_2 = [[40, 16, 1, 0, 0, 1, 0, 1]]  # Edad, Tenure, Usage Frequency, Support Calls, Gender_Male, Subscription Type_Premium, Subscription Type_Standard, Contract Length_Monthly\n",
    "\n",
    "# Crear un DataFrame con las nuevas entradas (Cliente 2)\n",
    "new_data_df_2 = pd.DataFrame(new_data_2, columns=['Age', 'Tenure', 'Usage Frequency', 'Support Calls', 'Gender_Male', 'Subscription Type_Premium', 'Subscription Type_Standard', 'Contract Length_Monthly'])\n",
    "\n",
    "# Asegurarnos de que las columnas de los nuevos datos coincidan con las del modelo\n",
    "# Si alguna columna falta, la agregamos con 0\n",
    "missing_cols = set(X_train_clean.columns) - set(new_data_df_2.columns)\n",
    "for col in missing_cols:\n",
    "    new_data_df_2[col] = 0  # Asignar 0 a las columnas faltantes\n",
    "\n",
    "# Reordenar las columnas para que coincidan con las del modelo entrenado\n",
    "new_data_df_2 = new_data_df_2[X_train_clean.columns]\n",
    "\n",
    "# Codificar las variables categóricas (si es necesario)\n",
    "new_data_encoded_2 = pd.get_dummies(new_data_df_2, drop_first=True)\n",
    "\n",
    "# Escalar los nuevos datos con el escalador cargado\n",
    "new_data_scaled_2 = scaler_loaded.transform(new_data_encoded_2)\n",
    "\n",
    "# Realizar la predicción\n",
    "prediction_2 = xgb_model_loaded.predict(new_data_scaled_2)\n",
    "\n",
    "# Mostrar la predicción\n",
    "if prediction_2[0] == 1:\n",
    "    print(\"Predicción para el Cliente 2: El cliente probablemente hará churn (se irá).\")\n",
    "else:\n",
    "    print(\"Predicción para el Cliente 2: El cliente probablemente no hará churn (se quedará).\")"
   ]
  },
  {
   "cell_type": "markdown",
   "metadata": {},
   "source": [
    "## RESULTADOS\n",
    "\n",
    "\n",
    "### **Cliente 1**:\n",
    "El **Cliente 1** tiene las siguientes características:\n",
    "- **Edad**: 35 años\n",
    "- **Género**: Masculino\n",
    "- **Gasto total**: 150 unidades monetarias\n",
    "- **Tiempo como cliente**: 6 meses\n",
    "\n",
    "Basado en estos datos, el modelo ha predicho que el **Cliente 1** **probablemente no hará churn (se quedará)**, lo que indica que es probable que siga siendo cliente.\n",
    "\n",
    "### **Cliente 2**:\n",
    "El **Cliente 2** tiene las siguientes características:\n",
    "- **Edad**: 40 años\n",
    "- **Género**: Femenino\n",
    "- **Gasto total**: 250 unidades monetarias\n",
    "- **Tiempo como cliente**: 16 meses\n",
    "- **Uso de frecuencia**: 1 vez al mes\n",
    "- **Llamadas de soporte**: 0\n",
    "- **Tipo de suscripción**: Premium\n",
    "- **Longitud del contrato**: Mensual\n",
    "\n",
    "Para el **Cliente 2**, el modelo ha predicho que el cliente **probablemente hará churn (se irá)**, lo que indica que, según las características actuales, es más probable que abandone el servicio.\n",
    "\n",
    "---\n",
    "\n",
    "### **Conclusión**:\n",
    "El modelo de predicción de churn proporciona una visión útil sobre la probabilidad de que un cliente abandone el servicio. Estas predicciones pueden ser valiosas para que la empresa tome medidas preventivas, como ofrecer descuentos o mejorar el servicio para los clientes que podrían estar considerando irse.\n",
    "\n",
    "\n",
    "### Acción preventiva:\n",
    "Basado en las predicciones, podríamos considerar ofrecer incentivos a los clientes en riesgo de churn para mejorar la retención.\n",
    "\n"
   ]
  },
  {
   "cell_type": "code",
   "execution_count": null,
   "metadata": {},
   "outputs": [],
   "source": []
  },
  {
   "cell_type": "code",
   "execution_count": null,
   "metadata": {},
   "outputs": [],
   "source": []
  }
 ],
 "metadata": {
  "kernelspec": {
   "display_name": "Python 3",
   "language": "python",
   "name": "python3"
  },
  "language_info": {
   "codemirror_mode": {
    "name": "ipython",
    "version": 3
   },
   "file_extension": ".py",
   "mimetype": "text/x-python",
   "name": "python",
   "nbconvert_exporter": "python",
   "pygments_lexer": "ipython3",
   "version": "3.11.9"
  }
 },
 "nbformat": 4,
 "nbformat_minor": 2
}
