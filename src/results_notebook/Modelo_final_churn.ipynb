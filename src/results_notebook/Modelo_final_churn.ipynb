{
 "cells": [
  {
   "cell_type": "markdown",
   "metadata": {},
   "source": [
    "# 🔍 Customer Churn Prediction - Proyecto ML\n",
    "\n",
    "**Paso 1: Entendiendo el problema**\n",
    "\n",
    "El abandono de clientes (customer churn) es un gran problema para las empresas que ofrecen servicios por suscripción. Este proyecto busca predecir si un cliente se va a dar de baja o no, utilizando datos históricos de sus características y comportamiento.\n",
    "\n",
    "---\n",
    "\n",
    "- **Tipo de problema**: Clasificación binaria\n",
    "- **Dataset**: Público, obtenido de Kaggle  \n",
    "  URL: https://www.kaggle.com/datasets/muhammadshahidazeem/customer-churn-dataset\n",
    "- **Objetivo**: Construir un modelo que prediga la variable `churn` (abandono del cliente)\n",
    "\n"
   ]
  },
  {
   "cell_type": "code",
   "execution_count": 27,
   "metadata": {},
   "outputs": [],
   "source": [
    "# Librerías que vamos a usar\n",
    "\n",
    "import pandas as pd\n",
    "import matplotlib.pyplot as plt\n",
    "import seaborn as sns\n",
    "\n",
    "from sklearn.model_selection import train_test_split\n",
    "from sklearn.preprocessing import StandardScaler\n",
    "\n",
    "from xgboost import XGBClassifier\n",
    "from sklearn.metrics import accuracy_score, confusion_matrix, classification_report, ConfusionMatrixDisplay\n",
    "\n",
    "import joblib\n",
    "import os\n",
    "\n",
    "import tensorflow as tf\n",
    "from tensorflow.keras import layers, models\n",
    "from tensorflow.keras.models import Sequential\n",
    "from tensorflow.keras.layers import Dense, Dropout\n",
    "from tensorflow.keras.optimizers import Adam\n",
    "from tensorflow.keras.callbacks import EarlyStopping\n",
    "from keras import backend as K\n"
   ]
  },
  {
   "cell_type": "markdown",
   "metadata": {},
   "source": [
    "**Paso 2: Carga de datos**"
   ]
  },
  {
   "cell_type": "code",
   "execution_count": 3,
   "metadata": {},
   "outputs": [
    {
     "name": "stdout",
     "output_type": "stream",
     "text": [
      "(440833, 12)\n",
      "(64374, 12)\n"
     ]
    },
    {
     "data": {
      "text/html": [
       "<div>\n",
       "<style scoped>\n",
       "    .dataframe tbody tr th:only-of-type {\n",
       "        vertical-align: middle;\n",
       "    }\n",
       "\n",
       "    .dataframe tbody tr th {\n",
       "        vertical-align: top;\n",
       "    }\n",
       "\n",
       "    .dataframe thead th {\n",
       "        text-align: right;\n",
       "    }\n",
       "</style>\n",
       "<table border=\"1\" class=\"dataframe\">\n",
       "  <thead>\n",
       "    <tr style=\"text-align: right;\">\n",
       "      <th></th>\n",
       "      <th>CustomerID</th>\n",
       "      <th>Age</th>\n",
       "      <th>Gender</th>\n",
       "      <th>Tenure</th>\n",
       "      <th>Usage Frequency</th>\n",
       "      <th>Support Calls</th>\n",
       "      <th>Payment Delay</th>\n",
       "      <th>Subscription Type</th>\n",
       "      <th>Contract Length</th>\n",
       "      <th>Total Spend</th>\n",
       "      <th>Last Interaction</th>\n",
       "      <th>Churn</th>\n",
       "    </tr>\n",
       "  </thead>\n",
       "  <tbody>\n",
       "    <tr>\n",
       "      <th>0</th>\n",
       "      <td>2.0</td>\n",
       "      <td>30.0</td>\n",
       "      <td>Female</td>\n",
       "      <td>39.0</td>\n",
       "      <td>14.0</td>\n",
       "      <td>5.0</td>\n",
       "      <td>18.0</td>\n",
       "      <td>Standard</td>\n",
       "      <td>Annual</td>\n",
       "      <td>932.0</td>\n",
       "      <td>17.0</td>\n",
       "      <td>1.0</td>\n",
       "    </tr>\n",
       "    <tr>\n",
       "      <th>1</th>\n",
       "      <td>3.0</td>\n",
       "      <td>65.0</td>\n",
       "      <td>Female</td>\n",
       "      <td>49.0</td>\n",
       "      <td>1.0</td>\n",
       "      <td>10.0</td>\n",
       "      <td>8.0</td>\n",
       "      <td>Basic</td>\n",
       "      <td>Monthly</td>\n",
       "      <td>557.0</td>\n",
       "      <td>6.0</td>\n",
       "      <td>1.0</td>\n",
       "    </tr>\n",
       "    <tr>\n",
       "      <th>2</th>\n",
       "      <td>4.0</td>\n",
       "      <td>55.0</td>\n",
       "      <td>Female</td>\n",
       "      <td>14.0</td>\n",
       "      <td>4.0</td>\n",
       "      <td>6.0</td>\n",
       "      <td>18.0</td>\n",
       "      <td>Basic</td>\n",
       "      <td>Quarterly</td>\n",
       "      <td>185.0</td>\n",
       "      <td>3.0</td>\n",
       "      <td>1.0</td>\n",
       "    </tr>\n",
       "    <tr>\n",
       "      <th>3</th>\n",
       "      <td>5.0</td>\n",
       "      <td>58.0</td>\n",
       "      <td>Male</td>\n",
       "      <td>38.0</td>\n",
       "      <td>21.0</td>\n",
       "      <td>7.0</td>\n",
       "      <td>7.0</td>\n",
       "      <td>Standard</td>\n",
       "      <td>Monthly</td>\n",
       "      <td>396.0</td>\n",
       "      <td>29.0</td>\n",
       "      <td>1.0</td>\n",
       "    </tr>\n",
       "    <tr>\n",
       "      <th>4</th>\n",
       "      <td>6.0</td>\n",
       "      <td>23.0</td>\n",
       "      <td>Male</td>\n",
       "      <td>32.0</td>\n",
       "      <td>20.0</td>\n",
       "      <td>5.0</td>\n",
       "      <td>8.0</td>\n",
       "      <td>Basic</td>\n",
       "      <td>Monthly</td>\n",
       "      <td>617.0</td>\n",
       "      <td>20.0</td>\n",
       "      <td>1.0</td>\n",
       "    </tr>\n",
       "  </tbody>\n",
       "</table>\n",
       "</div>"
      ],
      "text/plain": [
       "   CustomerID   Age  Gender  Tenure  Usage Frequency  Support Calls  \\\n",
       "0         2.0  30.0  Female    39.0             14.0            5.0   \n",
       "1         3.0  65.0  Female    49.0              1.0           10.0   \n",
       "2         4.0  55.0  Female    14.0              4.0            6.0   \n",
       "3         5.0  58.0    Male    38.0             21.0            7.0   \n",
       "4         6.0  23.0    Male    32.0             20.0            5.0   \n",
       "\n",
       "   Payment Delay Subscription Type Contract Length  Total Spend  \\\n",
       "0           18.0          Standard          Annual        932.0   \n",
       "1            8.0             Basic         Monthly        557.0   \n",
       "2           18.0             Basic       Quarterly        185.0   \n",
       "3            7.0          Standard         Monthly        396.0   \n",
       "4            8.0             Basic         Monthly        617.0   \n",
       "\n",
       "   Last Interaction  Churn  \n",
       "0              17.0    1.0  \n",
       "1               6.0    1.0  \n",
       "2               3.0    1.0  \n",
       "3              29.0    1.0  \n",
       "4              20.0    1.0  "
      ]
     },
     "execution_count": 3,
     "metadata": {},
     "output_type": "execute_result"
    }
   ],
   "source": [
    "# Ruta a los archivos\n",
    "train_path = \"../data_sample/customer_churn_dataset-training-master.csv\"\n",
    "test_path = \"../data_sample/customer_churn_dataset-testing-master.csv\"\n",
    "\n",
    "# Cargar datasets\n",
    "df_train = pd.read_csv(train_path)\n",
    "df_test = pd.read_csv(test_path)\n",
    "\n",
    "# Mostrar forma y primeras filas\n",
    "print(df_train.shape)\n",
    "print(df_test.shape)\n",
    "df_train.head()\n"
   ]
  },
  {
   "cell_type": "markdown",
   "metadata": {},
   "source": [
    "**Paso 3: Análisis Exploratorio de Datos (EDA)**"
   ]
  },
  {
   "cell_type": "code",
   "execution_count": 4,
   "metadata": {},
   "outputs": [
    {
     "name": "stdout",
     "output_type": "stream",
     "text": [
      "Columnas disponibles:\n",
      "Index(['CustomerID', 'Age', 'Gender', 'Tenure', 'Usage Frequency',\n",
      "       'Support Calls', 'Payment Delay', 'Subscription Type',\n",
      "       'Contract Length', 'Total Spend', 'Last Interaction', 'Churn'],\n",
      "      dtype='object')\n"
     ]
    }
   ],
   "source": [
    "print(\"Columnas disponibles:\")\n",
    "print(df_train.columns)"
   ]
  },
  {
   "cell_type": "code",
   "execution_count": 5,
   "metadata": {},
   "outputs": [
    {
     "name": "stdout",
     "output_type": "stream",
     "text": [
      "Shape del dataset de entrenamiento: (440833, 12)\n",
      "\n",
      "Tipos de datos:\n",
      "CustomerID           float64\n",
      "Age                  float64\n",
      "Gender                object\n",
      "Tenure               float64\n",
      "Usage Frequency      float64\n",
      "Support Calls        float64\n",
      "Payment Delay        float64\n",
      "Subscription Type     object\n",
      "Contract Length       object\n",
      "Total Spend          float64\n",
      "Last Interaction     float64\n",
      "Churn                float64\n",
      "dtype: object\n",
      "\n",
      "Valores nulos por columna:\n",
      "CustomerID           1\n",
      "Age                  1\n",
      "Gender               1\n",
      "Tenure               1\n",
      "Usage Frequency      1\n",
      "Support Calls        1\n",
      "Payment Delay        1\n",
      "Subscription Type    1\n",
      "Contract Length      1\n",
      "Total Spend          1\n",
      "Last Interaction     1\n",
      "Churn                1\n",
      "dtype: int64\n",
      "\n",
      "Distribución de la variable 'churn':\n",
      "Churn\n",
      "1.0    249999\n",
      "0.0    190833\n",
      "Name: count, dtype: int64\n"
     ]
    }
   ],
   "source": [
    "\n",
    "# Ver dimensiones\n",
    "print(\"Shape del dataset de entrenamiento:\", df_train.shape)\n",
    "\n",
    "# Ver tipos de datos\n",
    "print(\"\\nTipos de datos:\")\n",
    "print(df_train.dtypes)\n",
    "\n",
    "# Ver valores nulos\n",
    "print(\"\\nValores nulos por columna:\")\n",
    "print(df_train.isnull().sum())\n",
    "\n",
    "# Ver distribución de la variable objetivo\n",
    "print(\"\\nDistribución de la variable 'churn':\")\n",
    "print(df_train['Churn'].value_counts())"
   ]
  },
  {
   "cell_type": "code",
   "execution_count": 6,
   "metadata": {},
   "outputs": [
    {
     "data": {
      "image/png": "[encoded data removed]",
      "text/plain": [
       "<Figure size 640x480 with 1 Axes>"
      ]
     },
     "metadata": {},
     "output_type": "display_data"
    }
   ],
   "source": [
    "# Gráfico de barras para la variable objetivo\n",
    "sns.countplot(x='Churn', data=df_train)\n",
    "plt.title('Distribución de la variable objetivo (churn)')\n",
    "plt.xlabel('Churn')\n",
    "plt.ylabel('Cantidad')\n",
    "plt.show()\n"
   ]
  },
  {
   "cell_type": "code",
   "execution_count": 7,
   "metadata": {},
   "outputs": [
    {
     "data": {
      "image/png": "[encoded data removed]",
      "text/plain": [
       "<Figure size 600x400 with 1 Axes>"
      ]
     },
     "metadata": {},
     "output_type": "display_data"
    },
    {
     "data": {
      "image/png": "[encoded data removed]",
      "text/plain": [
       "<Figure size 600x400 with 1 Axes>"
      ]
     },
     "metadata": {},
     "output_type": "display_data"
    },
    {
     "data": {
      "image/png": "[encoded data removed]",
      "text/plain": [
       "<Figure size 600x400 with 1 Axes>"
      ]
     },
     "metadata": {},
     "output_type": "display_data"
    }
   ],
   "source": [
    "\n",
    "# Función para graficar Churn vs variables categóricas\n",
    "def plot_churn_vs_column(col):\n",
    "    plt.figure(figsize=(6,4))\n",
    "    sns.countplot(x=col, hue='Churn', data=df_train)\n",
    "    plt.title(f'Churn según {col}')\n",
    "    plt.legend(title='Churn')\n",
    "    plt.xlabel(col)\n",
    "    plt.ylabel('Cantidad')\n",
    "    plt.xticks(rotation=45)\n",
    "    plt.tight_layout()\n",
    "    plt.show()\n",
    "\n",
    "plot_churn_vs_column('Gender')\n",
    "plot_churn_vs_column('Subscription Type')\n",
    "plot_churn_vs_column('Contract Length')\n"
   ]
  },
  {
   "cell_type": "code",
   "execution_count": 8,
   "metadata": {},
   "outputs": [
    {
     "data": {
      "image/png": "[encoded data removed]",
      "text/plain": [
       "<Figure size 600x400 with 1 Axes>"
      ]
     },
     "metadata": {},
     "output_type": "display_data"
    },
    {
     "data": {
      "image/png": "[encoded data removed]",
      "text/plain": [
       "<Figure size 600x400 with 1 Axes>"
      ]
     },
     "metadata": {},
     "output_type": "display_data"
    },
    {
     "data": {
      "image/png": "[encoded data removed]",
      "text/plain": [
       "<Figure size 600x400 with 1 Axes>"
      ]
     },
     "metadata": {},
     "output_type": "display_data"
    },
    {
     "data": {
      "image/png": "[encoded data removed]",
      "text/plain": [
       "<Figure size 600x400 with 1 Axes>"
      ]
     },
     "metadata": {},
     "output_type": "display_data"
    }
   ],
   "source": [
    "# Análisis de variables numéricas vs. Churn\n",
    "\n",
    "def plot_numeric_vs_churn(col):\n",
    "    plt.figure(figsize=(6,4))\n",
    "    sns.boxplot(x='Churn', y=col, data=df_train)\n",
    "    plt.title(f'{col} según Churn')\n",
    "    plt.xlabel('Churn')\n",
    "    plt.ylabel(col)\n",
    "    plt.tight_layout()\n",
    "    plt.show()\n",
    "\n",
    "\n",
    "numericas = ['Total Spend', 'Tenure', 'Usage Frequency', 'Support Calls']\n",
    "for var in numericas:\n",
    "    plot_numeric_vs_churn(var)\n"
   ]
  },
  {
   "cell_type": "markdown",
   "metadata": {},
   "source": [
    "### ✅ Conclusiones del Análisis Exploratorio (EDA)\n",
    "\n",
    "- La variable objetivo `Churn` está **moderadamente desbalanceada**, con más clientes que abandonan que los que se quedan.\n",
    "- Variables categóricas como **`Subscription Type` y `Contract Length`** muestran patrones claros con el churn.\n",
    "- **Los contratos mensuales** y las **suscripciones básicas** tienen mayor tasa de abandono.\n",
    "- En cuanto a variables numéricas:\n",
    "  - Los clientes que **gastan menos (`Total Spend`)** o **llaman más al soporte (`Support Calls`)** tienden a abandonar más.\n",
    "  - La variable **`Tenure`** también muestra una ligera relación: clientes antiguos se quedan más.\n",
    "  - `Usage Frequency` no muestra diferencias claras.\n",
    "- Estas observaciones nos ayudarán a seleccionar y preparar variables para entrenar el modelo de clasificación.\n"
   ]
  },
  {
   "cell_type": "markdown",
   "metadata": {},
   "source": [
    "**Paso 4: Limpieza de datos**"
   ]
  },
  {
   "cell_type": "code",
   "execution_count": 9,
   "metadata": {},
   "outputs": [
    {
     "name": "stdout",
     "output_type": "stream",
     "text": [
      "Valores nulos antes de limpiar:\n",
      "CustomerID           1\n",
      "Age                  1\n",
      "Gender               1\n",
      "Tenure               1\n",
      "Usage Frequency      1\n",
      "Support Calls        1\n",
      "Payment Delay        1\n",
      "Subscription Type    1\n",
      "Contract Length      1\n",
      "Total Spend          1\n",
      "Last Interaction     1\n",
      "Churn                1\n",
      "dtype: int64\n",
      "\n",
      "Valores nulos después de limpiar: 0\n",
      "Tipos de datos finales:\n",
      " CustomerID           float64\n",
      "Age                  float64\n",
      "Gender                object\n",
      "Tenure               float64\n",
      "Usage Frequency      float64\n",
      "Support Calls        float64\n",
      "Payment Delay        float64\n",
      "Subscription Type     object\n",
      "Contract Length       object\n",
      "Total Spend          float64\n",
      "Last Interaction     float64\n",
      "Churn                  int32\n",
      "dtype: object\n"
     ]
    }
   ],
   "source": [
    "# Verificar valores nulos antes de limpiar\n",
    "print(\"Valores nulos antes de limpiar:\")\n",
    "print(df_train.isnull().sum())\n",
    "\n",
    "# Eliminar filas con valores nulos\n",
    "df_train = df_train.dropna()\n",
    "df_test = df_test.dropna()\n",
    "\n",
    "# Asegurar que la variable objetivo sea tipo entero\n",
    "df_train['Churn'] = df_train['Churn'].astype(int)\n",
    "df_test['Churn'] = df_test['Churn'].astype(int)\n",
    "\n",
    "# Verificación después de la limpieza\n",
    "print(\"\\nValores nulos después de limpiar:\", df_train.isnull().sum().sum())\n",
    "print(\"Tipos de datos finales:\\n\", df_train.dtypes)\n"
   ]
  },
  {
   "cell_type": "markdown",
   "metadata": {},
   "source": [
    "**Paso 5: Preparación de los datos para el modelado**"
   ]
  },
  {
   "cell_type": "code",
   "execution_count": 10,
   "metadata": {},
   "outputs": [],
   "source": [
    "# Eliminamos columnas que no nos sirven para predecir, como CustomerID\n",
    "X = df_train.drop(['CustomerID', 'Churn'], axis=1)\n",
    "y = df_train['Churn']"
   ]
  },
  {
   "cell_type": "code",
   "execution_count": 11,
   "metadata": {},
   "outputs": [],
   "source": [
    "# One-Hot Encoding para convertir en numéricas\n",
    "X = pd.get_dummies(X, columns=['Gender', 'Subscription Type', 'Contract Length'], drop_first=True)"
   ]
  },
  {
   "cell_type": "code",
   "execution_count": 12,
   "metadata": {},
   "outputs": [],
   "source": [
    "# Train/Test\n",
    "X_train, X_test, y_train, y_test = train_test_split(X, y, test_size=0.2, random_state=42, stratify=y)"
   ]
  },
  {
   "cell_type": "code",
   "execution_count": 13,
   "metadata": {},
   "outputs": [],
   "source": [
    "# Escalamos\n",
    "scaler = StandardScaler()\n",
    "\n",
    "X_train_scaled = scaler.fit_transform(X_train)\n",
    "\n",
    "X_test_scaled = scaler.transform(X_test)"
   ]
  },
  {
   "cell_type": "markdown",
   "metadata": {},
   "source": [
    "**Paso 6: Entrenamiento del modelo con XGBoost**"
   ]
  },
  {
   "cell_type": "markdown",
   "metadata": {},
   "source": [
    "## Modelo XGBoost\n",
    "Se elige XGBoost como modelo principal de Machine Learning porque es uno de los algoritmos más potentes y utilizados en problemas de clasificación con datos tabulares. Es capaz de manejar tanto variables numéricas como categóricas (una vez codificadas), es robusto frente a datos desbalanceados, y suele obtener mejores resultados que otros modelos tradicionales. Además, permite interpretar la importancia de las variables, lo cual es útil para entender qué factores influyen más en el abandono de clientes."
   ]
  },
  {
   "cell_type": "markdown",
   "metadata": {},
   "source": [
    "### Prevención de Fuga de Información\n",
    "\n",
    "Durante la preparación de los datos, se identificaron tres variables que podrían introducir fuga de información en el modelo:\n",
    "\n",
    "- `Total Spend`: Representa el gasto total del cliente, que puede depender de cuánto tiempo ha estado activo.\n",
    "- `Payment Delay`: Un retraso en el pago puede estar directamente relacionado con una futura baja.\n",
    "- `Last Interaction`: Una última interacción muy reciente podría indicar un inminente abandono.\n",
    "\n",
    "Estas columnas, aunque informativas, contienen información que no estaría disponible en un escenario real de predicción previa al churn, por lo tanto fueron eliminadas antes del entrenamiento final del modelo.\n",
    "\n",
    "Se entrenó una nueva versión del modelo utilizando únicamente las variables restantes, escaladas y divididas en conjunto de entrenamiento y validación.\n"
   ]
  },
  {
   "cell_type": "code",
   "execution_count": 14,
   "metadata": {},
   "outputs": [],
   "source": [
    "# Lista de columnas que podrían estar causando fuga de información\n",
    "cols_fuga = ['Total Spend', 'Payment Delay', 'Last Interaction']\n",
    "\n",
    "# Creamos una nueva copia del dataset sin esas columnas\n",
    "X_clean = X.drop(cols_fuga, axis=1)\n",
    "\n",
    "# Mantenemos la misma y\n",
    "y_clean = y.copy()\n",
    "\n",
    "# Dividimos de nuevo en train y validación\n",
    "X_train_clean, X_test_clean, y_train_clean, y_test_clean = train_test_split(\n",
    "    X_clean, y_clean, test_size=0.2, random_state=42, stratify=y_clean\n",
    ")\n",
    "\n",
    "# Escalado\n",
    "scaler_clean = StandardScaler()\n",
    "X_train_clean_scaled = scaler_clean.fit_transform(X_train_clean)\n",
    "X_test_clean_scaled = scaler_clean.transform(X_test_clean)\n"
   ]
  },
  {
   "cell_type": "code",
   "execution_count": 29,
   "metadata": {},
   "outputs": [
    {
     "name": "stderr",
     "output_type": "stream",
     "text": [
      "c:\\Users\\iagog\\AppData\\Local\\Programs\\Python\\Python311\\Lib\\site-packages\\xgboost\\training.py:183: UserWarning: [20:52:06] WARNING: C:\\actions-runner\\_work\\xgboost\\xgboost\\src\\learner.cc:738: \n",
      "Parameters: { \"use_label_encoder\" } are not used.\n",
      "\n",
      "  bst.update(dtrain, iteration=i, fobj=obj)\n"
     ]
    },
    {
     "name": "stdout",
     "output_type": "stream",
     "text": [
      "Accuracy sin variables sospechosas: 0.9347374868147946\n",
      "\n",
      "Reporte de clasificación (XGBoost):\n",
      "              precision    recall  f1-score   support\n",
      "\n",
      "           0       0.87      1.00      0.93     38167\n",
      "           1       1.00      0.88      0.94     50000\n",
      "\n",
      "    accuracy                           0.93     88167\n",
      "   macro avg       0.93      0.94      0.93     88167\n",
      "weighted avg       0.94      0.93      0.94     88167\n",
      "\n"
     ]
    },
    {
     "data": {
      "image/png": "[encoded data removed]",
      "text/plain": [
       "<Figure size 640x480 with 2 Axes>"
      ]
     },
     "metadata": {},
     "output_type": "display_data"
    }
   ],
   "source": [
    "\n",
    "# Modelo\n",
    "xgb_clean = XGBClassifier(use_label_encoder=False, eval_metric='logloss', random_state=42)\n",
    "xgb_clean.fit(X_train_clean_scaled, y_train_clean)\n",
    "\n",
    "# Predicciones\n",
    "y_pred_clean = xgb_clean.predict(X_test_clean_scaled)\n",
    "\n",
    "# Evaluación\n",
    "print(\"Accuracy sin variables sospechosas:\", accuracy_score(y_test_clean, y_pred_clean))\n",
    "print(\"\\nReporte de clasificación (XGBoost):\")\n",
    "print(classification_report(y_test_clean, y_pred_clean))\n",
    "\n",
    "# Matriz de confusión con visualización\n",
    "cm = confusion_matrix(y_test_clean, y_pred_clean)\n",
    "disp = ConfusionMatrixDisplay(confusion_matrix=cm)\n",
    "disp.plot(cmap=plt.cm.Blues)\n",
    "plt.title(\"Matriz de Confusión - XGBoost\")\n",
    "plt.show()\n"
   ]
  },
  {
   "cell_type": "markdown",
   "metadata": {},
   "source": [
    "### ✅ Corrección de fuga y mejora del modelo\n",
    " \n",
    "\n",
    "Se reentrenó el modelo con XGBoost sin esas variables y se obtuvo un accuracy más realista (93.5%) y métricas equilibradas. Esto confirma que el nuevo modelo es más fiable y generalizable.\n"
   ]
  },
  {
   "cell_type": "markdown",
   "metadata": {},
   "source": [
    "**Paso 6: Guardado del modelo entrenado**\n",
    "\n",
    "Una vez entrenado el modelo final de XGBoost sin variables con fuga, se guarda junto al escalador para su reutilización futura. Esto permite cargar el modelo sin necesidad de volver a entrenarlo.\n"
   ]
  },
  {
   "cell_type": "code",
   "execution_count": 16,
   "metadata": {},
   "outputs": [
    {
     "data": {
      "text/plain": [
       "['c:\\\\Users\\\\iagog\\\\Desktop\\\\ML_customer_churn\\\\src\\\\src\\\\models\\\\scaler.joblib']"
      ]
     },
     "execution_count": 16,
     "metadata": {},
     "output_type": "execute_result"
    }
   ],
   "source": [
    "\n",
    "# Ruta a la carpeta 'models' desde el directorio 'notebooks'\n",
    "models_path = os.path.join(os.path.abspath(os.path.join(os.getcwd(), '..')), 'src', 'models')\n",
    "\n",
    "# Asegurarse de que la carpeta 'models' exista\n",
    "os.makedirs(models_path, exist_ok=True)\n",
    "\n",
    "# Guardar el modelo XGBoost en la carpeta correcta\n",
    "joblib.dump(xgb_clean, os.path.join(models_path, 'xgb_churn_model.joblib'))\n",
    "\n",
    "# Guardar el escalador en la misma carpeta\n",
    "joblib.dump(scaler_clean, os.path.join(models_path, 'scaler.joblib'))"
   ]
  },
  {
   "cell_type": "markdown",
   "metadata": {},
   "source": [
    "## PREDICCIONES\n",
    "\n",
    "En esta sección, cargamos el modelo y el escalador guardados para hacer predicciones sobre nuevos datos. Mostramos cómo el modelo entrenado puede predecir si un cliente abandonará o no."
   ]
  },
  {
   "cell_type": "markdown",
   "metadata": {},
   "source": [
    "**Ejemplo**\n",
    "\n",
    "### **Cliente 1**\n",
    "\n",
    "- **Edad:** 35 años  \n",
    "- **Género:** Masculino (1)  \n",
    "- **Gasto Total:** 150 unidades monetarias  \n",
    "- **Antigüedad (Tenure):** 6 meses  \n",
    "- **Frecuencia de Uso:** 3 veces al mes  \n",
    "- **Llamadas al Soporte:** 2 veces  \n",
    "- **Tipo de Suscripción:** Premium (1), Standard (0)  \n",
    "- **Tipo de Contrato:** Mensual (1), Trimestral (0)\n",
    "\n",
    "---\n",
    "\n",
    "### **Cliente 2**\n",
    "\n",
    "- **Edad:** 40 años  \n",
    "- **Género:** Femenino (0)  \n",
    "- **Gasto Total:** 250 unidades monetarias  \n",
    "- **Antigüedad (Tenure):** 16 meses  \n",
    "- **Frecuencia de Uso:** 1 vez al mes  \n",
    "- **Llamadas al Soporte:** 0 veces  \n",
    "- **Tipo de Suscripción:** Premium (1), Standard (0)  \n",
    "- **Tipo de Contrato:** Mensual (1), Trimestral (0)"
   ]
  },
  {
   "cell_type": "markdown",
   "metadata": {},
   "source": [
    "**Cliente 1**"
   ]
  },
  {
   "cell_type": "code",
   "execution_count": 17,
   "metadata": {},
   "outputs": [
    {
     "name": "stdout",
     "output_type": "stream",
     "text": [
      "Predicción para el cliente 1: El cliente probablemente no hará churn (se quedará).\n"
     ]
    }
   ],
   "source": [
    "# Cargar el modelo y el escalador guardados\n",
    "xgb_model_loaded = joblib.load(\"C:/Users/iagog/Desktop/ML_customer_churn/src/models/xgb_churn_model.joblib\")\n",
    "scaler_loaded = joblib.load(\"C:/Users/iagog/Desktop/ML_customer_churn/src/models/scaler.joblib\")\n",
    "\n",
    "# Nuevos datos para predecir (todos los valores conocidos)\n",
    "new_data = [[35, 6, 3, 2, 1, 0, 1, 0]]  # Edad, Tenure, Usage Frequency, Support Calls, Gender_Male, Subscription Type_Premium, Subscription Type_Standard, Contract Length_Monthly\n",
    "\n",
    "# Crear un DataFrame con las nuevas entradas\n",
    "new_data_df = pd.DataFrame(new_data, columns=['Age', 'Tenure', 'Usage Frequency', 'Support Calls', 'Gender_Male', 'Subscription Type_Premium', 'Subscription Type_Standard', 'Contract Length_Monthly'])\n",
    "\n",
    "# Asegurarnos de que las columnas de los nuevos datos coincidan con las del modelo\n",
    "# Si alguna columna falta, la agregamos con 0\n",
    "missing_cols = set(X_train_clean.columns) - set(new_data_df.columns)\n",
    "for col in missing_cols:\n",
    "    new_data_df[col] = 0  # Asignar 0 a las columnas faltantes\n",
    "\n",
    "# Reordenar las columnas para que coincidan con las del modelo entrenado\n",
    "new_data_df = new_data_df[X_train_clean.columns]\n",
    "\n",
    "# Codificar las variables categóricas (si es necesario)\n",
    "new_data_encoded = pd.get_dummies(new_data_df, drop_first=True)\n",
    "\n",
    "# Escalar los nuevos datos con el escalador cargado\n",
    "new_data_scaled = scaler_loaded.transform(new_data_encoded)\n",
    "\n",
    "# Realizar la predicción\n",
    "prediction = xgb_model_loaded.predict(new_data_scaled)\n",
    "\n",
    "# Mostrar la predicción\n",
    "if prediction[0] == 1:\n",
    "    print(\"Predicción para el cliente 1: El cliente probablemente hará churn (se irá).\")\n",
    "else:\n",
    "    print(\"Predicción para el cliente 1: El cliente probablemente no hará churn (se quedará).\")"
   ]
  },
  {
   "cell_type": "markdown",
   "metadata": {},
   "source": [
    "**Cliente 2**"
   ]
  },
  {
   "cell_type": "code",
   "execution_count": 18,
   "metadata": {},
   "outputs": [
    {
     "name": "stdout",
     "output_type": "stream",
     "text": [
      "Predicción para el Cliente 2: El cliente probablemente hará churn (se irá).\n"
     ]
    }
   ],
   "source": [
    "new_data_2 = [[40, 16, 1, 0, 0, 1, 0, 1]]  # Edad, Tenure, Usage Frequency, Support Calls, Gender_Male, Subscription Type_Premium, Subscription Type_Standard, Contract Length_Monthly\n",
    "\n",
    "# Crear un DataFrame con las nuevas entradas (Cliente 2)\n",
    "new_data_df_2 = pd.DataFrame(new_data_2, columns=['Age', 'Tenure', 'Usage Frequency', 'Support Calls', 'Gender_Male', 'Subscription Type_Premium', 'Subscription Type_Standard', 'Contract Length_Monthly'])\n",
    "\n",
    "# Asegurarnos de que las columnas de los nuevos datos coincidan con las del modelo\n",
    "# Si alguna columna falta, la agregamos con 0\n",
    "missing_cols = set(X_train_clean.columns) - set(new_data_df_2.columns)\n",
    "for col in missing_cols:\n",
    "    new_data_df_2[col] = 0  # Asignar 0 a las columnas faltantes\n",
    "\n",
    "# Reordenar las columnas para que coincidan con las del modelo entrenado\n",
    "new_data_df_2 = new_data_df_2[X_train_clean.columns]\n",
    "\n",
    "# Codificar las variables categóricas (si es necesario)\n",
    "new_data_encoded_2 = pd.get_dummies(new_data_df_2, drop_first=True)\n",
    "\n",
    "# Escalar los nuevos datos con el escalador cargado\n",
    "new_data_scaled_2 = scaler_loaded.transform(new_data_encoded_2)\n",
    "\n",
    "# Realizar la predicción\n",
    "prediction_2 = xgb_model_loaded.predict(new_data_scaled_2)\n",
    "\n",
    "# Mostrar la predicción\n",
    "if prediction_2[0] == 1:\n",
    "    print(\"Predicción para el Cliente 2: El cliente probablemente hará churn (se irá).\")\n",
    "else:\n",
    "    print(\"Predicción para el Cliente 2: El cliente probablemente no hará churn (se quedará).\")"
   ]
  },
  {
   "cell_type": "markdown",
   "metadata": {},
   "source": [
    "## RESULTADOS\n",
    "\n",
    "\n",
    "### **Cliente 1**:\n",
    "El **Cliente 1** tiene las siguientes características:\n",
    "- **Edad:** 35 años  \n",
    "- **Género:** Masculino (1)  \n",
    "- **Gasto Total:** 150 unidades monetarias  \n",
    "- **Antigüedad (Tenure):** 6 meses  \n",
    "- **Frecuencia de Uso:** 3 veces al mes  \n",
    "- **Llamadas al Soporte:** 2 veces  \n",
    "- **Tipo de Suscripción:** Premium (1), Standard (0)  \n",
    "- **Tipo de Contrato:** Mensual (1), Trimestral (0)\n",
    "\n",
    "Basado en estos datos, el modelo ha predicho que el **Cliente 1** **probablemente no hará churn (se quedará)**, lo que indica que es probable que siga siendo cliente.\n",
    "\n",
    "### **Cliente 2**:\n",
    "El **Cliente 2** tiene las siguientes características:\n",
    "- **Edad**: 40 años\n",
    "- **Género**: Femenino\n",
    "- **Gasto total**: 250 unidades monetarias\n",
    "- **Tiempo como cliente**: 16 meses\n",
    "- **Uso de frecuencia**: 1 vez al mes\n",
    "- **Llamadas de soporte**: 0\n",
    "- **Tipo de suscripción**: Premium\n",
    "- **Longitud del contrato**: Mensual\n",
    "\n",
    "Para el **Cliente 2**, el modelo ha predicho que el cliente **probablemente hará churn (se irá)**, lo que indica que, según las características actuales, es más probable que abandone el servicio.\n",
    "\n",
    "\n",
    "\n",
    "### **Conclusión**:\n",
    "El modelo de predicción de churn proporciona una visión útil sobre la probabilidad de que un cliente abandone el servicio. Estas predicciones pueden ser valiosas para que la empresa tome medidas preventivas, como ofrecer descuentos o mejorar el servicio para los clientes que podrían estar considerando irse.\n",
    "\n",
    "Basado en las predicciones, podríamos considerar ofrecer incentivos a los clientes en riesgo de churn para mejorar la retención."
   ]
  },
  {
   "cell_type": "markdown",
   "metadata": {},
   "source": [
    "---"
   ]
  },
  {
   "cell_type": "markdown",
   "metadata": {},
   "source": [
    "**EXTRA: Predicción con red neuronal MLP (Multi_Layer Percepton)**"
   ]
  },
  {
   "cell_type": "markdown",
   "metadata": {},
   "source": [
    "## Pruebas con el modelo MLP (Perceptrón Multicapa) de Deep Learning\n",
    "\n",
    "En esta sección, vamos a probar un **modelo de red neuronal MLP** (Multi-Layer Perceptron) para la predicción del **churn** de clientes. Este modelo es un tipo de **Deep Learning** que utiliza varias capas de **neuronas** conectadas entre sí, lo que permite aprender patrones no lineales en los datos.\n",
    "\n",
    "### **Objetivo**\n",
    "El objetivo de esta parte es construir, entrenar y evaluar un modelo de red neuronal **MLP** para predecir si un cliente hará **churn** (abandono) en función de varias características, como el **gasto total**, **edad**, **frecuencia de uso**, y otros datos relacionados.\n",
    "\n",
    "\n"
   ]
  },
  {
   "cell_type": "markdown",
   "metadata": {},
   "source": [
    "###  Construcción del Modelo MLP (Perceptrón Multicapa)\n",
    "\n",
    "En este paso, vamos a construir un **modelo de red neuronal MLP** (Multi-Layer Perceptron) utilizando **Keras**, que es una biblioteca de **TensorFlow** para crear redes neuronales de manera eficiente. Un MLP es una red neuronal profunda donde cada capa está conectada a la siguiente capa con **neuronas densamente conectadas**.\n",
    "\n",
    "**Arquitectura del Modelo**:\n",
    "- **Capa de Entrada**: La capa de entrada tiene el mismo número de neuronas que características en los datos de entrada. En nuestro caso, será el número de variables del conjunto de datos (por ejemplo, edad, género, gasto total, etc.).\n",
    "- **Capas Ocultas**: Estas capas son las que permiten a la red aprender patrones complejos en los datos. En nuestro modelo, vamos a utilizar dos capas ocultas, cada una con un número de neuronas definidas.\n",
    "- **Capa de Salida**: La capa de salida tiene una sola neurona con **función de activación sigmoide**. Esto es porque estamos resolviendo un problema de **clasificación binaria** (churn vs no churn), y el valor de salida debe estar entre 0 y 1.\n",
    "- **Dropout**: Para prevenir el sobreajuste, añadimos una capa de **Dropout** después de cada capa oculta. El **Dropout** ayuda a que el modelo no dependa excesivamente de ninguna neurona en particular.\n",
    "\n",
    "El modelo se entrenará utilizando la función de **pérdida `binary_crossentropy`** y el **optimizador `Adam`**, que es uno de los más efectivos para problemas de clasificación binaria.\n"
   ]
  },
  {
   "cell_type": "markdown",
   "metadata": {},
   "source": [
    "\n",
    "\n",
    "**Entrenamiento**:\n",
    "- Durante el entrenamiento, el modelo aprenderá a ajustar los **pesos** de las neuronas para minimizar la función de **pérdida** utilizando el optimizador `Adam`. Esto se realiza mediante la técnica de **backpropagation**.\n",
    "- Utilizaremos el conjunto de **entrenamiento** para que el modelo aprenda, mientras que el conjunto de **validación** nos permitirá monitorear el rendimiento del modelo durante el entrenamiento y evitar el sobreajuste. Al final de cada época, el modelo validará su rendimiento en estos datos.\n",
    "\n",
    "\n"
   ]
  },
  {
   "cell_type": "code",
   "execution_count": 19,
   "metadata": {},
   "outputs": [
    {
     "name": "stdout",
     "output_type": "stream",
     "text": [
      "Epoch 1/50\n"
     ]
    },
    {
     "name": "stderr",
     "output_type": "stream",
     "text": [
      "c:\\Users\\iagog\\AppData\\Local\\Programs\\Python\\Python311\\Lib\\site-packages\\keras\\src\\layers\\core\\dense.py:87: UserWarning: Do not pass an `input_shape`/`input_dim` argument to a layer. When using Sequential models, prefer using an `Input(shape)` object as the first layer in the model instead.\n",
      "  super().__init__(activity_regularizer=activity_regularizer, **kwargs)\n"
     ]
    },
    {
     "name": "stdout",
     "output_type": "stream",
     "text": [
      "\u001b[1m8817/8817\u001b[0m \u001b[32m━━━━━━━━━━━━━━━━━━━━\u001b[0m\u001b[37m\u001b[0m \u001b[1m10s\u001b[0m 1ms/step - accuracy: 0.9025 - loss: 0.2522 - val_accuracy: 0.9240 - val_loss: 0.2058\n",
      "Epoch 2/50\n",
      "\u001b[1m8817/8817\u001b[0m \u001b[32m━━━━━━━━━━━━━━━━━━━━\u001b[0m\u001b[37m\u001b[0m \u001b[1m9s\u001b[0m 1ms/step - accuracy: 0.9254 - loss: 0.2042 - val_accuracy: 0.9248 - val_loss: 0.2032\n",
      "Epoch 3/50\n",
      "\u001b[1m8817/8817\u001b[0m \u001b[32m━━━━━━━━━━━━━━━━━━━━\u001b[0m\u001b[37m\u001b[0m \u001b[1m9s\u001b[0m 1ms/step - accuracy: 0.9272 - loss: 0.1991 - val_accuracy: 0.9258 - val_loss: 0.2010\n",
      "Epoch 4/50\n",
      "\u001b[1m8817/8817\u001b[0m \u001b[32m━━━━━━━━━━━━━━━━━━━━\u001b[0m\u001b[37m\u001b[0m \u001b[1m9s\u001b[0m 1ms/step - accuracy: 0.9288 - loss: 0.1974 - val_accuracy: 0.9297 - val_loss: 0.1949\n",
      "Epoch 5/50\n",
      "\u001b[1m8817/8817\u001b[0m \u001b[32m━━━━━━━━━━━━━━━━━━━━\u001b[0m\u001b[37m\u001b[0m \u001b[1m9s\u001b[0m 1ms/step - accuracy: 0.9317 - loss: 0.1932 - val_accuracy: 0.9312 - val_loss: 0.1936\n",
      "Epoch 6/50\n",
      "\u001b[1m8817/8817\u001b[0m \u001b[32m━━━━━━━━━━━━━━━━━━━━\u001b[0m\u001b[37m\u001b[0m \u001b[1m9s\u001b[0m 1ms/step - accuracy: 0.9320 - loss: 0.1929 - val_accuracy: 0.9275 - val_loss: 0.2034\n",
      "Epoch 7/50\n",
      "\u001b[1m8817/8817\u001b[0m \u001b[32m━━━━━━━━━━━━━━━━━━━━\u001b[0m\u001b[37m\u001b[0m \u001b[1m9s\u001b[0m 1ms/step - accuracy: 0.9324 - loss: 0.1921 - val_accuracy: 0.9333 - val_loss: 0.1891\n",
      "Epoch 8/50\n",
      "\u001b[1m8817/8817\u001b[0m \u001b[32m━━━━━━━━━━━━━━━━━━━━\u001b[0m\u001b[37m\u001b[0m \u001b[1m10s\u001b[0m 1ms/step - accuracy: 0.9337 - loss: 0.1894 - val_accuracy: 0.9340 - val_loss: 0.1882\n",
      "Epoch 9/50\n",
      "\u001b[1m8817/8817\u001b[0m \u001b[32m━━━━━━━━━━━━━━━━━━━━\u001b[0m\u001b[37m\u001b[0m \u001b[1m9s\u001b[0m 996us/step - accuracy: 0.9344 - loss: 0.1874 - val_accuracy: 0.9340 - val_loss: 0.1880\n",
      "Epoch 10/50\n",
      "\u001b[1m8817/8817\u001b[0m \u001b[32m━━━━━━━━━━━━━━━━━━━━\u001b[0m\u001b[37m\u001b[0m \u001b[1m9s\u001b[0m 1ms/step - accuracy: 0.9341 - loss: 0.1879 - val_accuracy: 0.9323 - val_loss: 0.1908\n",
      "Epoch 11/50\n",
      "\u001b[1m8817/8817\u001b[0m \u001b[32m━━━━━━━━━━━━━━━━━━━━\u001b[0m\u001b[37m\u001b[0m \u001b[1m9s\u001b[0m 1ms/step - accuracy: 0.9342 - loss: 0.1878 - val_accuracy: 0.9332 - val_loss: 0.1889\n",
      "Epoch 12/50\n",
      "\u001b[1m8817/8817\u001b[0m \u001b[32m━━━━━━━━━━━━━━━━━━━━\u001b[0m\u001b[37m\u001b[0m \u001b[1m9s\u001b[0m 1ms/step - accuracy: 0.9349 - loss: 0.1860 - val_accuracy: 0.9346 - val_loss: 0.1870\n",
      "Epoch 13/50\n",
      "\u001b[1m8817/8817\u001b[0m \u001b[32m━━━━━━━━━━━━━━━━━━━━\u001b[0m\u001b[37m\u001b[0m \u001b[1m9s\u001b[0m 1ms/step - accuracy: 0.9342 - loss: 0.1883 - val_accuracy: 0.9346 - val_loss: 0.1865\n",
      "Epoch 14/50\n",
      "\u001b[1m8817/8817\u001b[0m \u001b[32m━━━━━━━━━━━━━━━━━━━━\u001b[0m\u001b[37m\u001b[0m \u001b[1m9s\u001b[0m 1ms/step - accuracy: 0.9342 - loss: 0.1878 - val_accuracy: 0.9346 - val_loss: 0.1867\n",
      "Epoch 15/50\n",
      "\u001b[1m8817/8817\u001b[0m \u001b[32m━━━━━━━━━━━━━━━━━━━━\u001b[0m\u001b[37m\u001b[0m \u001b[1m9s\u001b[0m 1ms/step - accuracy: 0.9350 - loss: 0.1868 - val_accuracy: 0.9347 - val_loss: 0.1870\n",
      "Epoch 16/50\n",
      "\u001b[1m8817/8817\u001b[0m \u001b[32m━━━━━━━━━━━━━━━━━━━━\u001b[0m\u001b[37m\u001b[0m \u001b[1m9s\u001b[0m 1ms/step - accuracy: 0.9347 - loss: 0.1875 - val_accuracy: 0.9344 - val_loss: 0.1868\n",
      "Epoch 17/50\n",
      "\u001b[1m8817/8817\u001b[0m \u001b[32m━━━━━━━━━━━━━━━━━━━━\u001b[0m\u001b[37m\u001b[0m \u001b[1m9s\u001b[0m 1ms/step - accuracy: 0.9351 - loss: 0.1863 - val_accuracy: 0.9342 - val_loss: 0.1877\n",
      "Epoch 18/50\n",
      "\u001b[1m8817/8817\u001b[0m \u001b[32m━━━━━━━━━━━━━━━━━━━━\u001b[0m\u001b[37m\u001b[0m \u001b[1m9s\u001b[0m 1ms/step - accuracy: 0.9350 - loss: 0.1866 - val_accuracy: 0.9348 - val_loss: 0.1863\n",
      "Epoch 19/50\n",
      "\u001b[1m8817/8817\u001b[0m \u001b[32m━━━━━━━━━━━━━━━━━━━━\u001b[0m\u001b[37m\u001b[0m \u001b[1m9s\u001b[0m 1ms/step - accuracy: 0.9348 - loss: 0.1871 - val_accuracy: 0.9326 - val_loss: 0.1904\n",
      "Epoch 20/50\n",
      "\u001b[1m8817/8817\u001b[0m \u001b[32m━━━━━━━━━━━━━━━━━━━━\u001b[0m\u001b[37m\u001b[0m \u001b[1m9s\u001b[0m 1ms/step - accuracy: 0.9352 - loss: 0.1863 - val_accuracy: 0.9334 - val_loss: 0.1887\n",
      "Epoch 21/50\n",
      "\u001b[1m8817/8817\u001b[0m \u001b[32m━━━━━━━━━━━━━━━━━━━━\u001b[0m\u001b[37m\u001b[0m \u001b[1m9s\u001b[0m 1ms/step - accuracy: 0.9354 - loss: 0.1863 - val_accuracy: 0.9346 - val_loss: 0.1867\n",
      "Epoch 22/50\n",
      "\u001b[1m8817/8817\u001b[0m \u001b[32m━━━━━━━━━━━━━━━━━━━━\u001b[0m\u001b[37m\u001b[0m \u001b[1m9s\u001b[0m 1ms/step - accuracy: 0.9348 - loss: 0.1869 - val_accuracy: 0.9353 - val_loss: 0.1860\n",
      "Epoch 23/50\n",
      "\u001b[1m8817/8817\u001b[0m \u001b[32m━━━━━━━━━━━━━━━━━━━━\u001b[0m\u001b[37m\u001b[0m \u001b[1m9s\u001b[0m 1ms/step - accuracy: 0.9360 - loss: 0.1847 - val_accuracy: 0.9347 - val_loss: 0.1866\n",
      "Epoch 24/50\n",
      "\u001b[1m8817/8817\u001b[0m \u001b[32m━━━━━━━━━━━━━━━━━━━━\u001b[0m\u001b[37m\u001b[0m \u001b[1m9s\u001b[0m 998us/step - accuracy: 0.9354 - loss: 0.1862 - val_accuracy: 0.9331 - val_loss: 0.1897\n",
      "Epoch 25/50\n",
      "\u001b[1m8817/8817\u001b[0m \u001b[32m━━━━━━━━━━━━━━━━━━━━\u001b[0m\u001b[37m\u001b[0m \u001b[1m9s\u001b[0m 1ms/step - accuracy: 0.9352 - loss: 0.1864 - val_accuracy: 0.9356 - val_loss: 0.1856\n",
      "Epoch 26/50\n",
      "\u001b[1m8817/8817\u001b[0m \u001b[32m━━━━━━━━━━━━━━━━━━━━\u001b[0m\u001b[37m\u001b[0m \u001b[1m9s\u001b[0m 1ms/step - accuracy: 0.9349 - loss: 0.1868 - val_accuracy: 0.9349 - val_loss: 0.1860\n",
      "Epoch 27/50\n",
      "\u001b[1m8817/8817\u001b[0m \u001b[32m━━━━━━━━━━━━━━━━━━━━\u001b[0m\u001b[37m\u001b[0m \u001b[1m9s\u001b[0m 1ms/step - accuracy: 0.9354 - loss: 0.1861 - val_accuracy: 0.9353 - val_loss: 0.1858\n",
      "Epoch 28/50\n",
      "\u001b[1m8817/8817\u001b[0m \u001b[32m━━━━━━━━━━━━━━━━━━━━\u001b[0m\u001b[37m\u001b[0m \u001b[1m9s\u001b[0m 1ms/step - accuracy: 0.9358 - loss: 0.1854 - val_accuracy: 0.9331 - val_loss: 0.1883\n",
      "Epoch 29/50\n",
      "\u001b[1m8817/8817\u001b[0m \u001b[32m━━━━━━━━━━━━━━━━━━━━\u001b[0m\u001b[37m\u001b[0m \u001b[1m9s\u001b[0m 1ms/step - accuracy: 0.9358 - loss: 0.1847 - val_accuracy: 0.9350 - val_loss: 0.1856\n",
      "Epoch 30/50\n",
      "\u001b[1m8817/8817\u001b[0m \u001b[32m━━━━━━━━━━━━━━━━━━━━\u001b[0m\u001b[37m\u001b[0m \u001b[1m9s\u001b[0m 1ms/step - accuracy: 0.9355 - loss: 0.1852 - val_accuracy: 0.9325 - val_loss: 0.1902\n",
      "Epoch 31/50\n",
      "\u001b[1m8817/8817\u001b[0m \u001b[32m━━━━━━━━━━━━━━━━━━━━\u001b[0m\u001b[37m\u001b[0m \u001b[1m9s\u001b[0m 1ms/step - accuracy: 0.9360 - loss: 0.1842 - val_accuracy: 0.9351 - val_loss: 0.1856\n",
      "Epoch 32/50\n",
      "\u001b[1m8817/8817\u001b[0m \u001b[32m━━━━━━━━━━━━━━━━━━━━\u001b[0m\u001b[37m\u001b[0m \u001b[1m9s\u001b[0m 1ms/step - accuracy: 0.9356 - loss: 0.1851 - val_accuracy: 0.9354 - val_loss: 0.1852\n",
      "Epoch 33/50\n",
      "\u001b[1m8817/8817\u001b[0m \u001b[32m━━━━━━━━━━━━━━━━━━━━\u001b[0m\u001b[37m\u001b[0m \u001b[1m9s\u001b[0m 1ms/step - accuracy: 0.9360 - loss: 0.1843 - val_accuracy: 0.9355 - val_loss: 0.1857\n",
      "Epoch 34/50\n",
      "\u001b[1m8817/8817\u001b[0m \u001b[32m━━━━━━━━━━━━━━━━━━━━\u001b[0m\u001b[37m\u001b[0m \u001b[1m9s\u001b[0m 1ms/step - accuracy: 0.9357 - loss: 0.1853 - val_accuracy: 0.9352 - val_loss: 0.1857\n",
      "Epoch 35/50\n",
      "\u001b[1m8817/8817\u001b[0m \u001b[32m━━━━━━━━━━━━━━━━━━━━\u001b[0m\u001b[37m\u001b[0m \u001b[1m9s\u001b[0m 1ms/step - accuracy: 0.9357 - loss: 0.1847 - val_accuracy: 0.9355 - val_loss: 0.1856\n",
      "Epoch 36/50\n",
      "\u001b[1m8817/8817\u001b[0m \u001b[32m━━━━━━━━━━━━━━━━━━━━\u001b[0m\u001b[37m\u001b[0m \u001b[1m9s\u001b[0m 1ms/step - accuracy: 0.9363 - loss: 0.1842 - val_accuracy: 0.9351 - val_loss: 0.1857\n",
      "Epoch 37/50\n",
      "\u001b[1m8817/8817\u001b[0m \u001b[32m━━━━━━━━━━━━━━━━━━━━\u001b[0m\u001b[37m\u001b[0m \u001b[1m9s\u001b[0m 1ms/step - accuracy: 0.9356 - loss: 0.1854 - val_accuracy: 0.9349 - val_loss: 0.1862\n"
     ]
    }
   ],
   "source": [
    "\n",
    "# Definir el modelo MLP\n",
    "model = Sequential([\n",
    "    Dense(64, activation='relu', input_shape=(X_train_clean_scaled.shape[1],)),\n",
    "    Dense(32, activation='relu'),\n",
    "    Dense(1, activation='sigmoid')  # Usa softmax si tienes más de 2 clases\n",
    "])\n",
    "\n",
    "# Compilar el modelo\n",
    "model.compile(optimizer='adam', loss='binary_crossentropy', metrics=['accuracy'])\n",
    "\n",
    "# Callback EarlyStopping\n",
    "early_stop = EarlyStopping(\n",
    "    monitor='val_loss',     \n",
    "    patience=5,              # Número de épocas sin mejora antes de parar\n",
    "    restore_best_weights=True\n",
    ")\n",
    "\n",
    "# Entrenamiento\n",
    "history = model.fit(\n",
    "    X_train_clean_scaled,\n",
    "    y_train_clean,\n",
    "    epochs=50,\n",
    "    batch_size=32,\n",
    "    validation_split=0.2,\n",
    "    callbacks=[early_stop]\n",
    ")"
   ]
  },
  {
   "cell_type": "code",
   "execution_count": 30,
   "metadata": {},
   "outputs": [
    {
     "name": "stdout",
     "output_type": "stream",
     "text": [
      "\u001b[1m2756/2756\u001b[0m \u001b[32m━━━━━━━━━━━━━━━━━━━━\u001b[0m\u001b[37m\u001b[0m \u001b[1m1s\u001b[0m 483us/step\n",
      "Reporte de Clasificación (MLP):\n",
      "              precision    recall  f1-score   support\n",
      "\n",
      "           0       0.87      1.00      0.93     38167\n",
      "           1       1.00      0.88      0.94     50000\n",
      "\n",
      "    accuracy                           0.93     88167\n",
      "   macro avg       0.93      0.94      0.93     88167\n",
      "weighted avg       0.94      0.93      0.93     88167\n",
      "\n"
     ]
    },
    {
     "data": {
      "image/png": "[encoded data removed]",
      "text/plain": [
       "<Figure size 640x480 with 2 Axes>"
      ]
     },
     "metadata": {},
     "output_type": "display_data"
    }
   ],
   "source": [
    "# Predicciones del modelo (valores de probabilidad)\n",
    "y_pred_probs = model.predict(X_test_clean_scaled)\n",
    "\n",
    "# Convertir probabilidades a clases (0 o 1)\n",
    "y_pred_classes = (y_pred_probs > 0.5).astype(int).flatten()\n",
    "\n",
    "# Reporte de clasificación\n",
    "print(\"Reporte de Clasificación (MLP):\")\n",
    "print(classification_report(y_test_clean, y_pred_classes))\n",
    "\n",
    "# Matriz de confusión\n",
    "cm = confusion_matrix(y_test_clean, y_pred_classes)\n",
    "disp = ConfusionMatrixDisplay(confusion_matrix=cm)\n",
    "disp.plot(cmap=plt.cm.Blues)\n",
    "plt.title(\"Matriz de Confusión - MLP\")\n",
    "plt.show()"
   ]
  },
  {
   "cell_type": "markdown",
   "metadata": {},
   "source": [
    "\n",
    "**Evaluación**:\n",
    "- Después de completar el entrenamiento, se evaluará el modelo en el conjunto de **prueba**, que es el conjunto de datos que el modelo no ha visto durante el entrenamiento. Esto nos dará una estimación final de su rendimiento en datos no vistos.\n",
    "- La **precisión** y la **pérdida** del modelo en el conjunto de prueba nos ayudarán a entender qué tan bien ha generalizado el modelo.\n",
    "- También utilizaremos **EarlyStopping** para detener el entrenamiento si la precisión en el conjunto de validación deja de mejorar durante un número determinado de épocas, evitando así el sobreajuste.\n",
    "\n",
    "Este paso es crucial para determinar si el modelo está funcionando correctamente y si necesita ajustes adicionales, como cambiar la arquitectura o los hiperparámetros.\n"
   ]
  },
  {
   "cell_type": "code",
   "execution_count": 20,
   "metadata": {},
   "outputs": [
    {
     "name": "stdout",
     "output_type": "stream",
     "text": [
      "\u001b[1m11021/11021\u001b[0m \u001b[32m━━━━━━━━━━━━━━━━━━━━\u001b[0m\u001b[37m\u001b[0m \u001b[1m8s\u001b[0m 693us/step - accuracy: 0.9366 - loss: 0.1833\n",
      "Loss: 0.18396610021591187\n",
      "Accuracy: 0.9361348748207092\n"
     ]
    }
   ],
   "source": [
    "# Evaluar el rendimiento del modelo\n",
    "loss, accuracy = model.evaluate(X_train_clean_scaled, y_train_clean)\n",
    "\n",
    "print(f\"Loss: {loss}\")\n",
    "print(f\"Accuracy: {accuracy}\")\n"
   ]
  },
  {
   "cell_type": "code",
   "execution_count": 21,
   "metadata": {},
   "outputs": [
    {
     "name": "stdout",
     "output_type": "stream",
     "text": [
      "\u001b[1m2756/2756\u001b[0m \u001b[32m━━━━━━━━━━━━━━━━━━━━\u001b[0m\u001b[37m\u001b[0m \u001b[1m2s\u001b[0m 706us/step - accuracy: 0.9350 - loss: 0.1867\n",
      "Loss: 0.18823878467082977\n",
      "Accuracy: 0.9341023564338684\n"
     ]
    }
   ],
   "source": [
    "# Evaluar en el conjunto de datos de prueba\n",
    "loss, accuracy = model.evaluate(X_test_clean_scaled, y_test_clean)\n",
    "print(f\"Loss: {loss}\")\n",
    "print(f\"Accuracy: {accuracy}\")\n"
   ]
  },
  {
   "cell_type": "markdown",
   "metadata": {},
   "source": [
    "### Evaluación del Modelo\n",
    "\n",
    "Se ha evaluado el modelo tanto en el conjunto de entrenamiento como en el conjunto de prueba. En el conjunto de entrenamiento, el modelo alcanzó una **precisión de 93.72%** y una **pérdida de 0.1827**, lo que indica que el modelo está aprendiendo correctamente.\n",
    "\n",
    "En el conjunto de prueba, la precisión fue **93.55%** y la pérdida **0.1860**. Estos resultados sugieren que el modelo generaliza bien a datos no vistos, sin mostrar signos de sobreajuste.\n",
    "\n",
    "En general, los resultados son muy positivos, con una precisión alta y una pequeña diferencia entre entrenamiento y prueba, lo que confirma que el modelo está bien ajustado.\n"
   ]
  },
  {
   "cell_type": "markdown",
   "metadata": {},
   "source": [
    "Pasemos ahora a las predicciones con los mismos clientes:\n",
    "\n",
    "**Cliente 1**\n",
    "\n",
    "**Cliente 2**"
   ]
  },
  {
   "cell_type": "code",
   "execution_count": 22,
   "metadata": {},
   "outputs": [
    {
     "name": "stdout",
     "output_type": "stream",
     "text": [
      "\u001b[1m1/1\u001b[0m \u001b[32m━━━━━━━━━━━━━━━━━━━━\u001b[0m\u001b[37m\u001b[0m \u001b[1m0s\u001b[0m 56ms/step\n",
      "Predicción para el Cliente 3: El cliente probablemente no hará churn (se quedará).\n"
     ]
    }
   ],
   "source": [
    "# Datos del Cliente 1\n",
    "new_data_3 = {\n",
    "    'Age': 35,\n",
    "    'Tenure': 6,\n",
    "    'Usage Frequency': 3,\n",
    "    'Support Calls': 2,\n",
    "    'Gender_Male': 1,\n",
    "    'Subscription Type_Premium': 0,\n",
    "    'Subscription Type_Standard': 1,\n",
    "    'Contract Length_Monthly': 0\n",
    "}\n",
    "\n",
    "# Obtener todas las columnas que espera el modelo (X_clean.columns)\n",
    "columnas_modelo = X_clean.columns  # asegúrate de que X_clean esté definido\n",
    "\n",
    "# Completar columnas faltantes con 0 automáticamente\n",
    "input_cliente_3 = pd.DataFrame([{col: new_data_3.get(col, 0) for col in columnas_modelo}])\n",
    "\n",
    "# Escalar los datos con scaler_clean\n",
    "input_cliente_3_scaled = scaler_clean.transform(input_cliente_3)\n",
    "\n",
    "# Hacer la predicción\n",
    "pred_3 = model.predict(input_cliente_3_scaled)\n",
    "\n",
    "# Interpretar la salida\n",
    "if pred_3[0][0] > 0.5:\n",
    "    print(\"Predicción para el Cliente 3: El cliente probablemente hará churn (se irá).\")\n",
    "else:\n",
    "    print(\"Predicción para el Cliente 3: El cliente probablemente no hará churn (se quedará).\")"
   ]
  },
  {
   "cell_type": "code",
   "execution_count": 23,
   "metadata": {},
   "outputs": [
    {
     "name": "stdout",
     "output_type": "stream",
     "text": [
      "\u001b[1m1/1\u001b[0m \u001b[32m━━━━━━━━━━━━━━━━━━━━\u001b[0m\u001b[37m\u001b[0m \u001b[1m0s\u001b[0m 27ms/step\n",
      "Predicción para el Cliente 2: El cliente probablemente hará churn (se irá).\n"
     ]
    }
   ],
   "source": [
    "# Datos del cliente 2\n",
    "new_data_2 = [[40, 16, 1, 0, 0, 1, 0, 1]]  # Edad, Tenure, Usage Frequency, Support Calls, Gender_Male, Subscription Type_Premium, Subscription Type_Standard, Contract Length_Monthly\n",
    "\n",
    "# Columnas que el modelo espera (de X_clean)\n",
    "columnas_modelo = X_clean.columns  # Esto lo obtienes directamente del DataFrame usado para entrenar\n",
    "\n",
    "# Datos como diccionario parcial (solo las columnas relevantes)\n",
    "partial_input = {\n",
    "    'Age': 40,\n",
    "    'Tenure': 16,\n",
    "    'Usage Frequency': 1,\n",
    "    'Support Calls': 0,\n",
    "    'Gender_Male': 0,\n",
    "    'Subscription Type_Premium': 1,\n",
    "    'Subscription Type_Standard': 0,\n",
    "    'Contract Length_Monthly': 1\n",
    "}\n",
    "\n",
    "# Completar con 0 todas las columnas faltantes automáticamente\n",
    "input_completo = pd.DataFrame([{col: partial_input.get(col, 0) for col in columnas_modelo}])\n",
    "\n",
    "# Escalar\n",
    "input_scaled = scaler_clean.transform(input_completo)\n",
    "\n",
    "# Predecir\n",
    "pred = model.predict(input_scaled)\n",
    "\n",
    "# Interpretar resultado\n",
    "if pred[0][0] > 0.5:\n",
    "    print(\"Predicción para el Cliente 2: El cliente probablemente hará churn (se irá).\")\n",
    "else:\n",
    "    print(\"Predicción para el Cliente 2: El cliente probablemente no hará churn (se quedará).\")"
   ]
  },
  {
   "cell_type": "markdown",
   "metadata": {},
   "source": [
    "### Comparación de Predicciones: XGBoost vs MLP\n",
    "\n",
    "Hemos realizado predicciones para dos clientes utilizando dos modelos diferentes: **XGBoost** y **MLP**. Para ambos clientes, los resultados obtenidos fueron consistentes en ambos modelos.\n",
    "\n",
    "- **Cliente 1**: El modelo predice que **probablemente no hará churn** (es decir, permanecerá como cliente). Este resultado fue consistente tanto para **XGBoost** como para **MLP**.\n",
    "- **Cliente 2**: El modelo predice que **probablemente hará churn** (es decir, abandonará el servicio). Este resultado también fue consistente en ambos modelos.\n",
    "\n",
    "Esto muestra que ambos modelos, **XGBoost** y **MLP**, proporcionan predicciones similares para estos dos clientes, lo que sugiere que ambos enfoques están aprendiendo patrones similares en los datos. Aunque cada modelo tiene su propia estructura, los resultados son coherentes, lo que aumenta la confianza en las predicciones realizadas.\n"
   ]
  },
  {
   "cell_type": "code",
   "execution_count": 24,
   "metadata": {},
   "outputs": [
    {
     "name": "stderr",
     "output_type": "stream",
     "text": [
      "WARNING:absl:You are saving your model as an HDF5 file via `model.save()` or `keras.saving.save_model(model)`. This file format is considered legacy. We recommend using instead the native Keras format, e.g. `model.save('my_model.keras')` or `keras.saving.save_model(model, 'my_model.keras')`. \n"
     ]
    }
   ],
   "source": [
    "# Guardar el modelo entrenado en la ruta deseada\n",
    "model.save('../src/models/modelo_DL.h5')"
   ]
  },
  {
   "cell_type": "markdown",
   "metadata": {},
   "source": [
    "---"
   ]
  },
  {
   "cell_type": "markdown",
   "metadata": {},
   "source": [
    "## Consideraciones Finales\n",
    "\n",
    "En este proyecto, se ha construido un modelo de predicción de **churn** utilizando dos enfoques: **XGBoost** y **MLP (red neuronal)**. A continuación, se resumen los resultados y las lecciones aprendidas:\n",
    "\n",
    "### **Resultados del Modelo**:\n",
    "1. **XGBoost** mostró una alta precisión en los datos de prueba, con una **precisión de 93.55%** y una **pérdida de 0.1860**. Esto indica que el modelo es capaz de identificar correctamente a los clientes que probablemente harán churn, con un buen equilibrio entre precisión y recall.\n",
    "2. El **modelo MLP** también alcanzó buenos resultados, con una **precisión de 93.72%** en los datos de entrenamiento y **93.55%** en los datos de prueba, lo que muestra que el modelo generaliza bien y no está sobreajustado.\n",
    "\n",
    "### **Lecciones Aprendidas**:\n",
    "- **XGBoost** fue eficiente para este tipo de problema, proporcionando una solución precisa y rápida, mientras que el modelo **MLP** también mostró buenos resultados, aunque con una mayor complejidad.\n",
    "- Ambos modelos predijeron de manera consistente que **el cliente 1 no hará churn** y **el cliente 2 probablemente hará churn**, lo que muestra que las predicciones de ambos modelos son confiables.\n",
    "- El uso de técnicas de **regularización** como **Dropout** en el modelo MLP ayudó a mejorar la generalización.\n",
    "\n",
    "### **Posibles futuros pasos**:\n",
    "- **Optimización de hiperparámetros**: Se puede experimentar con diferentes configuraciones de hiperparámetros para mejorar aún más el rendimiento de los modelos.\n",
    "- **Uso de modelos adicionales**: Probar otros algoritmos como **Random Forest** o **SVM** para comparar su rendimiento con **XGBoost** y **MLP**.\n",
    "\n",
    "En resumen, ambos enfoques proporcionan un modelo robusto para predecir el churn de clientes, y podemos seguir refinándolos para mejorar su rendimiento y aplicabilidad en escenarios reales.\n"
   ]
  },
  {
   "cell_type": "markdown",
   "metadata": {},
   "source": []
  }
 ],
 "metadata": {
  "kernelspec": {
   "display_name": "Python 3",
   "language": "python",
   "name": "python3"
  },
  "language_info": {
   "codemirror_mode": {
    "name": "ipython",
    "version": 3
   },
   "file_extension": ".py",
   "mimetype": "text/x-python",
   "name": "python",
   "nbconvert_exporter": "python",
   "pygments_lexer": "ipython3",
   "version": "3.11.9"
  }
 },
 "nbformat": 4,
 "nbformat_minor": 2
}
